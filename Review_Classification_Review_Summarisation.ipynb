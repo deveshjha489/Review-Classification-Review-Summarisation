{
  "nbformat": 4,
  "nbformat_minor": 0,
  "metadata": {
    "colab": {
      "name": "Entropy.ipynb",
      "provenance": [],
      "collapsed_sections": []
    },
    "kernelspec": {
      "display_name": "Python 3",
      "name": "python3"
    },
    "language_info": {
      "name": "python"
    }
  },
  "cells": [
    {
      "cell_type": "code",
      "metadata": {
        "id": "1BSRUBBFaeLy"
      },
      "source": [
        "# # Run only once to extract dataset in drive\n",
        "# !tar xvzf \"/content/drive/MyDrive/Colab Notebooks/rotten_imdb.tar.gz\" -C \"/content/drive/MyDrive/Colab Notebooks/\""
      ],
      "execution_count": 4,
      "outputs": []
    },
    {
      "cell_type": "code",
      "metadata": {
        "id": "0FsZR0asdRTf",
        "colab": {
          "base_uri": "https://localhost:8080/"
        },
        "outputId": "cacd330e-68ae-446f-bd0f-bdccc703f30b"
      },
      "source": [
        "!pip install word2vec\n",
        "!pip install rouge-score\n",
        "!pip install sumy"
      ],
      "execution_count": 6,
      "outputs": [
        {
          "output_type": "stream",
          "text": [
            "Requirement already satisfied: word2vec in /usr/local/lib/python3.7/dist-packages (0.11.1)\n",
            "Requirement already satisfied: numpy>=1.9.2 in /usr/local/lib/python3.7/dist-packages (from word2vec) (1.19.5)\n",
            "Requirement already satisfied: joblib in /usr/local/lib/python3.7/dist-packages (from word2vec) (1.0.1)\n",
            "Requirement already satisfied: rouge-score in /usr/local/lib/python3.7/dist-packages (0.0.4)\n",
            "Requirement already satisfied: nltk in /usr/local/lib/python3.7/dist-packages (from rouge-score) (3.2.5)\n",
            "Requirement already satisfied: absl-py in /usr/local/lib/python3.7/dist-packages (from rouge-score) (0.12.0)\n",
            "Requirement already satisfied: six>=1.14.0 in /usr/local/lib/python3.7/dist-packages (from rouge-score) (1.15.0)\n",
            "Requirement already satisfied: numpy in /usr/local/lib/python3.7/dist-packages (from rouge-score) (1.19.5)\n",
            "Requirement already satisfied: sumy in /usr/local/lib/python3.7/dist-packages (0.8.1)\n",
            "Requirement already satisfied: nltk>=3.0.2 in /usr/local/lib/python3.7/dist-packages (from sumy) (3.2.5)\n",
            "Requirement already satisfied: pycountry>=18.2.23 in /usr/local/lib/python3.7/dist-packages (from sumy) (20.7.3)\n",
            "Requirement already satisfied: requests>=2.7.0 in /usr/local/lib/python3.7/dist-packages (from sumy) (2.23.0)\n",
            "Requirement already satisfied: docopt<0.7,>=0.6.1 in /usr/local/lib/python3.7/dist-packages (from sumy) (0.6.2)\n",
            "Requirement already satisfied: breadability>=0.1.20 in /usr/local/lib/python3.7/dist-packages (from sumy) (0.1.20)\n",
            "Requirement already satisfied: six in /usr/local/lib/python3.7/dist-packages (from nltk>=3.0.2->sumy) (1.15.0)\n",
            "Requirement already satisfied: chardet<4,>=3.0.2 in /usr/local/lib/python3.7/dist-packages (from requests>=2.7.0->sumy) (3.0.4)\n",
            "Requirement already satisfied: idna<3,>=2.5 in /usr/local/lib/python3.7/dist-packages (from requests>=2.7.0->sumy) (2.10)\n",
            "Requirement already satisfied: certifi>=2017.4.17 in /usr/local/lib/python3.7/dist-packages (from requests>=2.7.0->sumy) (2020.12.5)\n",
            "Requirement already satisfied: urllib3!=1.25.0,!=1.25.1,<1.26,>=1.21.1 in /usr/local/lib/python3.7/dist-packages (from requests>=2.7.0->sumy) (1.24.3)\n",
            "Requirement already satisfied: lxml>=2.0 in /usr/local/lib/python3.7/dist-packages (from breadability>=0.1.20->sumy) (4.2.6)\n"
          ],
          "name": "stdout"
        }
      ]
    },
    {
      "cell_type": "code",
      "metadata": {
        "colab": {
          "base_uri": "https://localhost:8080/"
        },
        "id": "wg3f66m0Z9lu",
        "outputId": "b7670771-bef4-43ea-df5f-19d7c078ae1d"
      },
      "source": [
        "from google.colab import drive\n",
        "drive.mount('/content/drive')"
      ],
      "execution_count": 5,
      "outputs": [
        {
          "output_type": "stream",
          "text": [
            "Drive already mounted at /content/drive; to attempt to forcibly remount, call drive.mount(\"/content/drive\", force_remount=True).\n"
          ],
          "name": "stdout"
        }
      ]
    },
    {
      "cell_type": "code",
      "metadata": {
        "colab": {
          "base_uri": "https://localhost:8080/"
        },
        "id": "Dg4t3DCixB-Q",
        "outputId": "66caa32d-fecd-4a58-ab83-964baf685306"
      },
      "source": [
        "import nltk\n",
        "nltk.download('stopwords')\n",
        "nltk.download('averaged_perceptron_tagger')\n",
        "nltk.download('wordnet')\n",
        "nltk.download('punkt')"
      ],
      "execution_count": 7,
      "outputs": [
        {
          "output_type": "stream",
          "text": [
            "[nltk_data] Downloading package stopwords to /root/nltk_data...\n",
            "[nltk_data]   Package stopwords is already up-to-date!\n",
            "[nltk_data] Downloading package averaged_perceptron_tagger to\n",
            "[nltk_data]     /root/nltk_data...\n",
            "[nltk_data]   Package averaged_perceptron_tagger is already up-to-\n",
            "[nltk_data]       date!\n",
            "[nltk_data] Downloading package wordnet to /root/nltk_data...\n",
            "[nltk_data]   Package wordnet is already up-to-date!\n",
            "[nltk_data] Downloading package punkt to /root/nltk_data...\n",
            "[nltk_data]   Package punkt is already up-to-date!\n"
          ],
          "name": "stdout"
        },
        {
          "output_type": "execute_result",
          "data": {
            "text/plain": [
              "True"
            ]
          },
          "metadata": {
            "tags": []
          },
          "execution_count": 7
        }
      ]
    },
    {
      "cell_type": "code",
      "metadata": {
        "id": "oORd3b3nABHk"
      },
      "source": [
        "import os\n",
        "import random\n",
        "import string\n",
        "import re\n",
        "import pandas as pd\n",
        "import numpy as np\n",
        "from gensim.models import Word2Vec\n",
        "from nltk.tokenize import sent_tokenize, word_tokenize\n",
        "from nltk.stem import WordNetLemmatizer\n",
        "from nltk.corpus import stopwords\n",
        "from nltk.corpus import wordnet\n",
        "from nltk import pos_tag\n",
        "from sklearn.feature_extraction.text import CountVectorizer, TfidfVectorizer\n",
        "from sklearn.tree import DecisionTreeClassifier\n",
        "from sklearn.svm import LinearSVC\n",
        "from sklearn.model_selection import train_test_split as tts\n",
        "from sklearn import naive_bayes\n",
        "from sklearn.metrics import accuracy_score\n",
        "from sklearn.naive_bayes import MultinomialNB\n",
        "from sklearn.metrics.pairwise import cosine_similarity\n",
        "from sumy.summarizers.lex_rank import LexRankSummarizer\n",
        "from sumy.summarizers.text_rank import TextRankSummarizer\n",
        "from sklearn.model_selection import StratifiedKFold, KFold\n",
        "from sumy.parsers.plaintext import PlaintextParser\n",
        "import matplotlib.pyplot as plt\n",
        "from sumy.nlp.tokenizers import Tokenizer\n",
        "from rouge_score import rouge_scorer\n",
        "import re\n",
        "from nltk.tokenize import sent_tokenize\n",
        "from scipy import spatial\n",
        "import networkx as nx\n",
        "\n",
        "import tensorflow as tf\n",
        "from tensorflow.keras import preprocessing\n",
        "from tensorflow.keras.preprocessing.text import Tokenizer\n",
        "from sklearn.preprocessing import LabelEncoder\n",
        "from tensorflow.keras.preprocessing.sequence import pad_sequences\n",
        "from tensorflow.keras import regularizers\n",
        "from tensorflow.keras.layers import Embedding, Conv1D, GlobalMaxPooling1D, Dense, Dropout, MaxPooling1D, Flatten\n",
        "from tensorflow.keras.losses import CategoricalCrossentropy"
      ],
      "execution_count": 8,
      "outputs": []
    },
    {
      "cell_type": "code",
      "metadata": {
        "id": "8EnlvyFHL4uM"
      },
      "source": [
        "import warnings\n",
        "warnings.filterwarnings('ignore')"
      ],
      "execution_count": 9,
      "outputs": []
    },
    {
      "cell_type": "code",
      "metadata": {
        "id": "AKcuPsz9HnI3"
      },
      "source": [
        "polarity_dir = '/content/drive/MyDrive/Colab Notebooks/txt_sentoken'\n",
        "imdb_train_dir   = '/content/drive/MyDrive/Colab Notebooks/aclImdb/train'\n",
        "imdb_test_dir    = '/content/drive/MyDrive/Colab Notebooks/aclImdb/test'\n",
        "subjective_dir  = '/content/drive/MyDrive/Colab Notebooks/quote.tok.gt9.5000'\n",
        "objective_dir   =  '/content/drive/MyDrive/Colab Notebooks/plot.tok.gt9.5000'"
      ],
      "execution_count": 10,
      "outputs": []
    },
    {
      "cell_type": "markdown",
      "metadata": {
        "id": "C2yYjxN54YDM"
      },
      "source": [
        "# **Preprocessing**"
      ]
    },
    {
      "cell_type": "code",
      "metadata": {
        "id": "McqLMEs-75G4"
      },
      "source": [
        "def remove_html_tags(sentence): \n",
        "    cleanr = re.compile('<.*?>')\n",
        "    cleantext = re.sub(cleanr, ' ', sentence)\n",
        "    return cleantext\n",
        "\n",
        "def preprocessing(dir_path):\n",
        "  category = ['pos','neg']\n",
        "  documents = []\n",
        "  for cat in category:\n",
        "    print(cat)\n",
        "    dir_curr = dir_path + '/' + cat\n",
        "    file_list = [f for f in os.listdir(dir_curr) ]\n",
        "    i = 0\n",
        "    for file_name in file_list:\n",
        "      i += 1\n",
        "      file = open(dir_curr + '/' + file_name, 'r')\n",
        "      text = file.read()\n",
        "      text = remove_html_tags(text)\n",
        "      # text = remove_punctuations(text)\n",
        "      text = text.split()\n",
        "      documents.append((text,cat))\n",
        "      file.close()\n",
        "      if i%100 == 0:\n",
        "        print(i)\n",
        "  # print(len(documents))\n",
        "  random.shuffle(documents)\n",
        "  return documents\n",
        "\n",
        "def get_simple_pos(tag):\n",
        "  if tag.startswith('J'):\n",
        "    return wordnet.ADJ\n",
        "  elif tag.startswith('V'):\n",
        "    return wordnet.VERB\n",
        "  elif tag.startswith('N'):\n",
        "    return wordnet.NOUN\n",
        "  elif tag.startswith('R'):\n",
        "    return wordnet.ADV\n",
        "  else:\n",
        "    return wordnet.NOUN\n",
        "\n",
        "\n",
        "def clean_review(words):\n",
        "  lemmatizer = WordNetLemmatizer()\n",
        "  stops = set(stopwords.words('english'))\n",
        "  punctuations = list(string.punctuation)\n",
        "  stops.update(punctuations)\n",
        "  output = []\n",
        "  for w in words:\n",
        "    if w.lower() not in stops:\n",
        "      pos = pos_tag([w])\n",
        "      clean_word = lemmatizer.lemmatize(w,pos = get_simple_pos(pos[0][1]))\n",
        "      if clean_word.isalpha():\n",
        "        output.append(clean_word.lower())\n",
        "  return output"
      ],
      "execution_count": 11,
      "outputs": []
    },
    {
      "cell_type": "code",
      "metadata": {
        "id": "ZbOz8JsCFvEr"
      },
      "source": [
        "def subjectivity_dataset_preprocess(documents,path, subjective = True):\n",
        "  f_s = open(path, 'r' , encoding=\"ISO-8859-1\")\n",
        "  sentences = f_s.read().split('\\n')\n",
        "  f_s.close()\n",
        "\n",
        "  if subjective:\n",
        "    cat = 'subjective'\n",
        "  else:\n",
        "    cat = 'objective'\n",
        "\n",
        "  for sent in range(0,len(sentences)-1):\n",
        "    text = remove_html_tags(sentences[sent])\n",
        "    text = text.split()\n",
        "    documents.append((text,cat))\n",
        "\n",
        "  random.shuffle(documents)\n",
        "  return documents"
      ],
      "execution_count": 12,
      "outputs": []
    },
    {
      "cell_type": "markdown",
      "metadata": {
        "id": "A8KeZxsE9jE-"
      },
      "source": [
        "# Feature Extraction"
      ]
    },
    {
      "cell_type": "code",
      "metadata": {
        "id": "bioJ-FxVBaKm"
      },
      "source": [
        "def feature_extraction(X_train, X_test, n_gram = 'unigram'):\n",
        "  if n_gram == 'unigram':\n",
        "    count_vec = CountVectorizer(max_features = 2000,ngram_range = (1,1))\n",
        "  elif n_gram == 'bigram':\n",
        "    count_vec = CountVectorizer(max_features = 2000,ngram_range = (2,2))\n",
        "  elif n_gram == 'both':\n",
        "    count_vec = CountVectorizer(max_features = 2000,ngram_range = (1,2))\n",
        "\n",
        "  X_train_features = count_vec.fit_transform(X_train)\n",
        "  X_test_features = count_vec.transform(X_test)\n",
        "\n",
        "  return X_train_features, X_test_features"
      ],
      "execution_count": 13,
      "outputs": []
    },
    {
      "cell_type": "code",
      "metadata": {
        "id": "Bme-d5jPiLjQ"
      },
      "source": [
        "def feature_extraction_tfidf(X_train, X_test, n_gram = 'unigram'):\n",
        "  if n_gram == 'unigram':\n",
        "    count_vec = TfidfVectorizer(max_features = 2000,ngram_range = (1,1))\n",
        "  elif n_gram == 'bigram':\n",
        "    count_vec = TfidfVectorizer(max_features = 2000,ngram_range = (2,2))\n",
        "  elif n_gram == 'both':\n",
        "    count_vec = TfidfVectorizer(max_features = 2000,ngram_range = (1,2))\n",
        "  \n",
        "  X_train_features = count_vec.fit_transform(X_train)\n",
        "  X_test_features = count_vec.transform(X_test)\n",
        "\n",
        "  return X_train_features, X_test_features"
      ],
      "execution_count": 14,
      "outputs": []
    },
    {
      "cell_type": "code",
      "metadata": {
        "id": "w2uhSWpL8_mi"
      },
      "source": [
        "# for imdb dataset split = False\n",
        "def split_train_test(documents, split = True):\n",
        "  categories = [category for document,category in documents]\n",
        "  text_documents = [\" \".join(document) for document,category in documents]\n",
        "  if split:\n",
        "      X_train, X_test, Y_train, Y_test = tts(text_documents, categories, test_size = 0.3)\n",
        "      return X_train, X_test,Y_train,Y_test\n",
        "  else:\n",
        "      return text_documents,categories"
      ],
      "execution_count": 15,
      "outputs": []
    },
    {
      "cell_type": "markdown",
      "metadata": {
        "id": "xLuDF4Lh_W3_"
      },
      "source": [
        "# Review Classification"
      ]
    },
    {
      "cell_type": "code",
      "metadata": {
        "scrolled": true,
        "id": "ZpPCAOUPtECm"
      },
      "source": [
        "polarity_doc = preprocessing(polarity_dir)"
      ],
      "execution_count": null,
      "outputs": []
    },
    {
      "cell_type": "code",
      "metadata": {
        "id": "fsxb1hLpcRyu"
      },
      "source": [
        "imdb_train_doc = preprocessing(imdb_train_dir)"
      ],
      "execution_count": null,
      "outputs": []
    },
    {
      "cell_type": "code",
      "metadata": {
        "id": "E8Lp-k8JcSNq"
      },
      "source": [
        "imdb_test_doc = preprocessing(imdb_test_dir)"
      ],
      "execution_count": null,
      "outputs": []
    },
    {
      "cell_type": "code",
      "metadata": {
        "id": "5OMTISh0JMvT"
      },
      "source": [
        "subjectivity_dataset_list = []\n",
        "subjectivity_dataset_list = subjectivity_dataset_preprocess(subjectivity_dataset_list, subjective_dir)"
      ],
      "execution_count": 30,
      "outputs": []
    },
    {
      "cell_type": "code",
      "metadata": {
        "id": "8y8Hs39aJXBp"
      },
      "source": [
        "subjectivity_dataset_list = subjectivity_dataset_preprocess(subjectivity_dataset_list, objective_dir, subjective=False)"
      ],
      "execution_count": 31,
      "outputs": []
    },
    {
      "cell_type": "code",
      "metadata": {
        "id": "R2-MDPyHJwRa"
      },
      "source": [
        "subjectivity_dataset = [(clean_review(document),category) for document,category in subjectivity_dataset_list]"
      ],
      "execution_count": 32,
      "outputs": []
    },
    {
      "cell_type": "code",
      "metadata": {
        "id": "nF_7CMkYcXSr"
      },
      "source": [
        "documents_polarity_dataset = [(clean_review(document),category) for document,category in polarity_doc]"
      ],
      "execution_count": 33,
      "outputs": []
    },
    {
      "cell_type": "code",
      "metadata": {
        "scrolled": false,
        "id": "25SWsTIttJ_f"
      },
      "source": [
        "imdb_train_dataset = [(clean_review(document),category) for document,category in imdb_train_doc]"
      ],
      "execution_count": 18,
      "outputs": []
    },
    {
      "cell_type": "code",
      "metadata": {
        "id": "65xM_jcrtLTH"
      },
      "source": [
        "imdb_test_dataset = [(clean_review(document),category) for document,category in imdb_test_doc]"
      ],
      "execution_count": 19,
      "outputs": []
    },
    {
      "cell_type": "code",
      "metadata": {
        "id": "NTL5ICw9KzUR"
      },
      "source": [
        "X_train_s, X_test_s, Y_train_s, Y_test_s = split_train_test(subjectivity_dataset)"
      ],
      "execution_count": 34,
      "outputs": []
    },
    {
      "cell_type": "code",
      "metadata": {
        "scrolled": true,
        "id": "NMqqtJ2HtNc_"
      },
      "source": [
        "X_train_p, X_test_p, Y_train_p, Y_test_p = split_train_test(documents_polarity_dataset)"
      ],
      "execution_count": 35,
      "outputs": []
    },
    {
      "cell_type": "code",
      "metadata": {
        "id": "_0u1iaiitOw9"
      },
      "source": [
        "X_train_imdb, Y_train_imdb = split_train_test(imdb_train_dataset, split = False)"
      ],
      "execution_count": 20,
      "outputs": []
    },
    {
      "cell_type": "code",
      "metadata": {
        "id": "SnmkBFNRtQEA"
      },
      "source": [
        "X_test_imdb, Y_test_imdb = split_train_test(imdb_test_dataset, split = False)"
      ],
      "execution_count": 21,
      "outputs": []
    },
    {
      "cell_type": "markdown",
      "metadata": {
        "id": "aen4V4ma9msK"
      },
      "source": [
        "## Naive Bayes"
      ]
    },
    {
      "cell_type": "code",
      "metadata": {
        "id": "wSZsWYesO7JR"
      },
      "source": [
        "Naive_Bayes_accuracies = {\n",
        "    \"Features\" : [\"Unigram\",\"Bigram\",\"Unigram+Bigram\",'Unigram+TI-IDF', 'Bigram+TI-IDF', 'Unigram+Bigram+TI-IDF'],\n",
        "    \"PL04\" : [],\n",
        "    \"imdb\" : [],\n",
        "    \"subjectivity\" : []\n",
        "}"
      ],
      "execution_count": 102,
      "outputs": []
    },
    {
      "cell_type": "code",
      "metadata": {
        "id": "n9uHM3YPV8jJ"
      },
      "source": [
        "def alpha_vs_accuracy(xpoints, ypoints, ngram):\n",
        "  plt.xticks(xpoints)\n",
        "  plt.xlabel(\"alpha\")\n",
        "  plt.ylabel(\"accuracy\")\n",
        "  plt.title(\"alpha VS Accuracy \" + ngram)\n",
        "  plt.plot(xpoints, ypoints)\n",
        "  plt.show()"
      ],
      "execution_count": 51,
      "outputs": []
    },
    {
      "cell_type": "code",
      "metadata": {
        "id": "Rg4kCSpsHnJD"
      },
      "source": [
        "'''\n",
        "In StratifiedKFold The folds are made by preserving the percentage of samples for each class.\n",
        "'''\n",
        "    \n",
        "def k_fold_cross_valid(X, y, folds, ngram):\n",
        "    alpha_values = [1,2,3,4,5,6,7,8,9,10]\n",
        "    accuracies   = []\n",
        "    skf = StratifiedKFold(n_splits=folds)\n",
        "    for val in alpha_values:\n",
        "      sum = 0\n",
        "      for train_index, test_index in skf.split(X, y):\n",
        "          X_train, X_test = X[train_index], X[test_index]\n",
        "          y_train, y_test = y[train_index], y[test_index]\n",
        "          X_train_features, X_test_features = feature_extraction(X_train, X_test,n_gram = ngram)\n",
        "          clf = MultinomialNB(alpha=val)\n",
        "          clf.fit(X_train_features.todense(), y_train)\n",
        "          y_pred = clf.predict(X_test_features.todense())\n",
        "          acc = accuracy_score(y_test, y_pred, normalize=True) * float(100)\n",
        "          sum += acc\n",
        "      average = sum/folds\n",
        "      accuracies.append(average)\n",
        "      # print(ngram)\n",
        "      # print('alpha:',val,' Accuracies:',average)\n",
        "    alpha_vs_accuracy(alpha_values, accuracies,ngram)"
      ],
      "execution_count": 52,
      "outputs": []
    },
    {
      "cell_type": "markdown",
      "metadata": {
        "id": "9ECPecbUC4Lm"
      },
      "source": [
        "1.   **Polarity Dataset**\n",
        "\n"
      ]
    },
    {
      "cell_type": "code",
      "metadata": {
        "colab": {
          "base_uri": "https://localhost:8080/",
          "height": 295
        },
        "id": "XkenqgpvCC3V",
        "outputId": "371ad8fb-8c87-4622-ee6c-1ecd6c478b3f"
      },
      "source": [
        "# 10-fold cross validation n_gram = unigram\n",
        "k_fold_cross_valid(np.array(X_train_p), np.array(Y_train_p),10,'unigram')"
      ],
      "execution_count": null,
      "outputs": [
        {
          "output_type": "display_data",
          "data": {
            "image/png": "[encoded data removed]",
            "text/plain": [
              "<Figure size 432x288 with 1 Axes>"
            ]
          },
          "metadata": {
            "tags": [],
            "needs_background": "light"
          }
        }
      ]
    },
    {
      "cell_type": "code",
      "metadata": {
        "colab": {
          "base_uri": "https://localhost:8080/",
          "height": 295
        },
        "id": "ImjDItbUC5Cl",
        "outputId": "cd0145c9-2ca6-4586-81f7-1072b1c5a12d"
      },
      "source": [
        "# 10-fold cross validation n_gram = Bigram\n",
        "k_fold_cross_valid(np.array(X_train_p), np.array(Y_train_p),10,'bigram')"
      ],
      "execution_count": null,
      "outputs": [
        {
          "output_type": "display_data",
          "data": {
            "image/png": "[encoded data removed]",
            "text/plain": [
              "<Figure size 432x288 with 1 Axes>"
            ]
          },
          "metadata": {
            "tags": [],
            "needs_background": "light"
          }
        }
      ]
    },
    {
      "cell_type": "code",
      "metadata": {
        "colab": {
          "base_uri": "https://localhost:8080/",
          "height": 295
        },
        "id": "oxKsjmj8C-kP",
        "outputId": "05480eb2-043c-4840-f309-83c529601886"
      },
      "source": [
        "# 10-fold cross validation n_gram = unigram + Bigram\n",
        "k_fold_cross_valid(np.array(X_train_p), np.array(Y_train_p),10,'both')"
      ],
      "execution_count": null,
      "outputs": [
        {
          "output_type": "display_data",
          "data": {
            "image/png": "[encoded data removed]",
            "text/plain": [
              "<Figure size 432x288 with 1 Axes>"
            ]
          },
          "metadata": {
            "tags": [],
            "needs_background": "light"
          }
        }
      ]
    },
    {
      "cell_type": "markdown",
      "metadata": {
        "id": "Kkgv2utD-Y3u"
      },
      "source": [
        "**Unigram**"
      ]
    },
    {
      "cell_type": "code",
      "metadata": {
        "colab": {
          "base_uri": "https://localhost:8080/"
        },
        "id": "e6r-x0m1tjc3",
        "outputId": "307c734a-4629-44a5-b9b2-7b20a3727c55"
      },
      "source": [
        "X_train_features, X_test_features = feature_extraction(X_train_p, X_test_p)\n",
        "clf = MultinomialNB(alpha=5)\n",
        "clf.fit(X_train_features.todense(), Y_train_p)\n",
        "y_pred_test = clf.predict(X_test_features.todense())\n",
        "unigram_polarity_acc = accuracy_score(Y_test_p, y_pred_test, normalize=True) * float(100)\n",
        "Naive_Bayes_accuracies['PL04'].append(unigram_polarity_acc)\n",
        "print('Test accuracy is',(unigram_polarity_acc))"
      ],
      "execution_count": null,
      "outputs": [
        {
          "output_type": "stream",
          "text": [
            "Test accuracy is 79.0\n"
          ],
          "name": "stdout"
        }
      ]
    },
    {
      "cell_type": "markdown",
      "metadata": {
        "id": "1xf6gqL0-dah"
      },
      "source": [
        "**Bigram**"
      ]
    },
    {
      "cell_type": "code",
      "metadata": {
        "colab": {
          "base_uri": "https://localhost:8080/"
        },
        "id": "9WUmbP1CtmMN",
        "outputId": "b096e369-0b60-4e28-b6ee-697949d50e0a"
      },
      "source": [
        "X_train_features, X_test_features = feature_extraction(X_train_p, X_test_p, n_gram='bigram')\n",
        "clf = MultinomialNB(alpha=1)\n",
        "clf.fit(X_train_features.todense(), Y_train_p)\n",
        "y_pred_test = clf.predict(X_test_features.todense())\n",
        "bigram_polarity_acc = accuracy_score(Y_test_p, y_pred_test, normalize=True) * float(100)\n",
        "Naive_Bayes_accuracies['PL04'].append(bigram_polarity_acc)\n",
        "print('Test accuracy is',(bigram_polarity_acc))"
      ],
      "execution_count": null,
      "outputs": [
        {
          "output_type": "stream",
          "text": [
            "Test accuracy is 74.4\n"
          ],
          "name": "stdout"
        }
      ]
    },
    {
      "cell_type": "markdown",
      "metadata": {
        "id": "ts73sBaC-mHx"
      },
      "source": [
        "**Unigram + Bigram**"
      ]
    },
    {
      "cell_type": "code",
      "metadata": {
        "colab": {
          "base_uri": "https://localhost:8080/"
        },
        "id": "NESrxToytonk",
        "outputId": "11c82537-496f-4a29-b81a-fdee32232578"
      },
      "source": [
        "X_train_features, X_test_features = feature_extraction(X_train_p, X_test_p, n_gram='both')\n",
        "clf = MultinomialNB(alpha=6)\n",
        "clf.fit(X_train_features.todense(), Y_train_p)\n",
        "\n",
        "y_pred_test = clf.predict(X_test_features.todense())\n",
        "ub_polarity_acc = accuracy_score(Y_test_p, y_pred_test, normalize=True) * float(100)\n",
        "Naive_Bayes_accuracies['PL04'].append(ub_polarity_acc)\n",
        "print('Test accuracy is',(ub_polarity_acc))"
      ],
      "execution_count": null,
      "outputs": [
        {
          "output_type": "stream",
          "text": [
            "Test accuracy is 80.60000000000001\n"
          ],
          "name": "stdout"
        }
      ]
    },
    {
      "cell_type": "markdown",
      "metadata": {
        "id": "Ldm1NAXjgyoi"
      },
      "source": [
        "**Unigram + Tf-idf**"
      ]
    },
    {
      "cell_type": "code",
      "metadata": {
        "colab": {
          "base_uri": "https://localhost:8080/"
        },
        "id": "ZfsgAMtRtu_8",
        "outputId": "a86cfbf0-14d7-42ac-d2fe-f020cf01da60"
      },
      "source": [
        "X_train_features, X_test_features = feature_extraction_tfidf(X_train_p, X_test_p)\n",
        "clf = MultinomialNB(alpha=5)\n",
        "clf.fit(X_train_features.todense(), Y_train_p)\n",
        "\n",
        "y_pred_test = clf.predict(X_test_features.todense())\n",
        "ut_polarity_acc = accuracy_score(Y_test_p, y_pred_test, normalize=True) * float(100)\n",
        "Naive_Bayes_accuracies['PL04'].append(ut_polarity_acc)\n",
        "print('Test accuracy is',(ut_polarity_acc))"
      ],
      "execution_count": null,
      "outputs": [
        {
          "output_type": "stream",
          "text": [
            "Test accuracy is 78.8\n"
          ],
          "name": "stdout"
        }
      ]
    },
    {
      "cell_type": "markdown",
      "metadata": {
        "id": "TNq6k-nHgyol"
      },
      "source": [
        "**Bigram + Tf-idf**"
      ]
    },
    {
      "cell_type": "code",
      "metadata": {
        "colab": {
          "base_uri": "https://localhost:8080/"
        },
        "id": "cYwl52ROtxFd",
        "outputId": "81581a0e-b77a-4668-c8a4-8f77880727aa"
      },
      "source": [
        "X_train_features, X_test_features = feature_extraction_tfidf(X_train_p, X_test_p, n_gram='bigram')\n",
        "clf = MultinomialNB(alpha=1)\n",
        "clf.fit(X_train_features.todense(), Y_train_p)\n",
        "\n",
        "y_pred_test = clf.predict(X_test_features.todense())\n",
        "bt_polarity_acc = accuracy_score(Y_test_p, y_pred_test, normalize=True) * float(100)\n",
        "Naive_Bayes_accuracies['PL04'].append(bt_polarity_acc)\n",
        "print('Test accuracy is',(bt_polarity_acc))"
      ],
      "execution_count": null,
      "outputs": [
        {
          "output_type": "stream",
          "text": [
            "Test accuracy is 77.0\n"
          ],
          "name": "stdout"
        }
      ]
    },
    {
      "cell_type": "markdown",
      "metadata": {
        "id": "l2a5vXBXgyom"
      },
      "source": [
        "**Unigram + Bigram + Tf-idf**"
      ]
    },
    {
      "cell_type": "code",
      "metadata": {
        "colab": {
          "base_uri": "https://localhost:8080/"
        },
        "id": "kQmPgFQwtzMl",
        "outputId": "a56c3dee-e142-445e-b4ec-f55652403e98"
      },
      "source": [
        "X_train_features, X_test_features = feature_extraction_tfidf(X_train_p, X_test_p, n_gram='both')\n",
        "clf = MultinomialNB(alpha=6)\n",
        "clf.fit(X_train_features.todense(), Y_train_p)\n",
        "\n",
        "y_pred_test = clf.predict(X_test_features.todense())\n",
        "but_polarity_acc = accuracy_score(Y_test_p, y_pred_test, normalize=True) * float(100)\n",
        "Naive_Bayes_accuracies['PL04'].append(but_polarity_acc)\n",
        "print('Test accuracy is',(but_polarity_acc))"
      ],
      "execution_count": null,
      "outputs": [
        {
          "output_type": "stream",
          "text": [
            "Test accuracy is 78.8\n"
          ],
          "name": "stdout"
        }
      ]
    },
    {
      "cell_type": "markdown",
      "metadata": {
        "id": "1j5BGaEtO7JU"
      },
      "source": [
        "2.   **IMDB Dataset**"
      ]
    },
    {
      "cell_type": "code",
      "metadata": {
        "colab": {
          "base_uri": "https://localhost:8080/",
          "height": 295
        },
        "id": "NbpFRPE0DR0n",
        "outputId": "e3850041-5c77-4b7c-e844-84357f33886d"
      },
      "source": [
        "# 10-fold cross validation IMDB n_gram = unigram\n",
        "k_fold_cross_valid(np.array(X_train_imdb), np.array(Y_train_imdb), 10, 'unigram')"
      ],
      "execution_count": null,
      "outputs": [
        {
          "output_type": "display_data",
          "data": {
            "image/png": "[encoded data removed]",
            "text/plain": [
              "<Figure size 432x288 with 1 Axes>"
            ]
          },
          "metadata": {
            "tags": [],
            "needs_background": "light"
          }
        }
      ]
    },
    {
      "cell_type": "code",
      "metadata": {
        "colab": {
          "base_uri": "https://localhost:8080/",
          "height": 295
        },
        "id": "GcTWljSoDSn0",
        "outputId": "e3a94acb-9b70-4eba-8a1f-00b8a4724038"
      },
      "source": [
        "# 10-fold cross validation IMDB n_gram = bigram\n",
        "k_fold_cross_valid(np.array(X_train_imdb), np.array(Y_train_imdb), 10, 'bigram')"
      ],
      "execution_count": null,
      "outputs": [
        {
          "output_type": "display_data",
          "data": {
            "image/png": "[encoded data removed]",
            "text/plain": [
              "<Figure size 432x288 with 1 Axes>"
            ]
          },
          "metadata": {
            "tags": [],
            "needs_background": "light"
          }
        }
      ]
    },
    {
      "cell_type": "code",
      "metadata": {
        "colab": {
          "base_uri": "https://localhost:8080/",
          "height": 295
        },
        "id": "qVzlZh4RDSwQ",
        "outputId": "8c69f42c-efe7-48d0-fbc2-70a578f52c46"
      },
      "source": [
        "# 10-fold cross validation IMDB n_gram = unigram + bigram\n",
        "k_fold_cross_valid(np.array(X_train_imdb), np.array(Y_train_imdb), 10, 'both')"
      ],
      "execution_count": null,
      "outputs": [
        {
          "output_type": "display_data",
          "data": {
            "image/png": "[encoded data removed]",
            "text/plain": [
              "<Figure size 432x288 with 1 Axes>"
            ]
          },
          "metadata": {
            "tags": [],
            "needs_background": "light"
          }
        }
      ]
    },
    {
      "cell_type": "markdown",
      "metadata": {
        "id": "Q8TLI-euO7JU"
      },
      "source": [
        "**Unigram**"
      ]
    },
    {
      "cell_type": "code",
      "metadata": {
        "colab": {
          "base_uri": "https://localhost:8080/"
        },
        "id": "-PzjFbt5t7VI",
        "outputId": "b0c9981f-48fb-4f5d-b7cf-d81e7cccf52e"
      },
      "source": [
        "X_train_features_imdb, X_test_features_imdb = feature_extraction(X_train_imdb, X_test_imdb)\n",
        "clf = MultinomialNB(alpha=8)\n",
        "clf.fit(X_train_features_imdb.todense(), Y_train_imdb)\n",
        "\n",
        "y_pred_test_imdb = clf.predict(X_test_features_imdb.todense())\n",
        "unigram_imdb_acc = accuracy_score(Y_test_imdb, y_pred_test_imdb, normalize=True) * float(100)\n",
        "Naive_Bayes_accuracies['imdb'].append(unigram_imdb_acc)\n",
        "print('Test accuracy is',(unigram_imdb_acc))"
      ],
      "execution_count": null,
      "outputs": [
        {
          "output_type": "stream",
          "text": [
            "Test accuracy is 82.272\n"
          ],
          "name": "stdout"
        }
      ]
    },
    {
      "cell_type": "markdown",
      "metadata": {
        "id": "sIpFkFAMO7JV"
      },
      "source": [
        "**Bigram**"
      ]
    },
    {
      "cell_type": "code",
      "metadata": {
        "colab": {
          "base_uri": "https://localhost:8080/"
        },
        "id": "1iaifNzLuCdR",
        "outputId": "7a421052-fe2b-4225-d5c2-a29347cf151b"
      },
      "source": [
        "X_train_features_imdb, X_test_features_imdb = feature_extraction(X_train_imdb, X_test_imdb, n_gram=\"bigram\")\n",
        "clf = MultinomialNB(alpha=4)\n",
        "clf.fit(X_train_features_imdb.todense(), Y_train_imdb)\n",
        "\n",
        "y_pred_test_imdb = clf.predict(X_test_features_imdb.todense())\n",
        "bigram_imdb_acc = accuracy_score(Y_test_imdb, y_pred_test_imdb, normalize=True) * float(100)\n",
        "Naive_Bayes_accuracies['imdb'].append(bigram_imdb_acc)\n",
        "print('Test accuracy is',(bigram_imdb_acc))"
      ],
      "execution_count": null,
      "outputs": [
        {
          "output_type": "stream",
          "text": [
            "Test accuracy is 74.432\n"
          ],
          "name": "stdout"
        }
      ]
    },
    {
      "cell_type": "markdown",
      "metadata": {
        "id": "YWy3Rhp-O7JW"
      },
      "source": [
        "**Unigram + Bigram**"
      ]
    },
    {
      "cell_type": "code",
      "metadata": {
        "colab": {
          "base_uri": "https://localhost:8080/"
        },
        "id": "eZDWY9zQuFMi",
        "outputId": "7fde335e-0671-48fe-c52c-b1b8ed814217"
      },
      "source": [
        "X_train_features_imdb, X_test_features_imdb = feature_extraction(X_train_imdb, X_test_imdb, n_gram=\"both\")\n",
        "clf = MultinomialNB(alpha=1)\n",
        "clf.fit(X_train_features_imdb.todense(), Y_train_imdb)\n",
        "\n",
        "y_pred_test_imdb = clf.predict(X_test_features_imdb.todense())\n",
        "ub_imdb_acc = accuracy_score(Y_test_imdb, y_pred_test_imdb, normalize=True) * float(100)\n",
        "Naive_Bayes_accuracies['imdb'].append(ub_imdb_acc)\n",
        "print('Test accuracy is',(ub_imdb_acc))"
      ],
      "execution_count": null,
      "outputs": [
        {
          "output_type": "stream",
          "text": [
            "Test accuracy is 82.65599999999999\n"
          ],
          "name": "stdout"
        }
      ]
    },
    {
      "cell_type": "markdown",
      "metadata": {
        "id": "aAkVqU_vfSHV"
      },
      "source": [
        "**Unigram + Tf-idf**"
      ]
    },
    {
      "cell_type": "code",
      "metadata": {
        "colab": {
          "base_uri": "https://localhost:8080/"
        },
        "id": "MEPLUxlCuHV7",
        "outputId": "d20be289-8272-4fe1-9a44-1811afa39555"
      },
      "source": [
        "X_train_features_imdb, X_test_features_imdb = feature_extraction_tfidf(X_train_imdb, X_test_imdb)\n",
        "clf = MultinomialNB(alpha=8)\n",
        "clf.fit(X_train_features_imdb.todense(), Y_train_imdb)\n",
        "\n",
        "y_pred_test_imdb = clf.predict(X_test_features_imdb.todense())\n",
        "ut_imdb_acc = accuracy_score(Y_test_imdb, y_pred_test_imdb, normalize=True) * float(100)\n",
        "Naive_Bayes_accuracies['imdb'].append(ut_imdb_acc)\n",
        "print('Test accuracy is',(ut_imdb_acc))"
      ],
      "execution_count": null,
      "outputs": [
        {
          "output_type": "stream",
          "text": [
            "Test accuracy is 82.604\n"
          ],
          "name": "stdout"
        }
      ]
    },
    {
      "cell_type": "markdown",
      "metadata": {
        "id": "Kpch9DZufZFV"
      },
      "source": [
        "**Bigram + Tf-idf**"
      ]
    },
    {
      "cell_type": "code",
      "metadata": {
        "colab": {
          "base_uri": "https://localhost:8080/"
        },
        "id": "UiSDuzP1uKEn",
        "outputId": "a22ccba9-2725-460d-d040-36e32e26b302"
      },
      "source": [
        "X_train_features_imdb, X_test_features_imdb = feature_extraction_tfidf(X_train_imdb, X_test_imdb,n_gram='bigram')\n",
        "clf = MultinomialNB(alpha=4)\n",
        "clf.fit(X_train_features_imdb.todense(), Y_train_imdb)\n",
        "\n",
        "y_pred_test_imdb = clf.predict(X_test_features_imdb.todense())\n",
        "bt_imdb_acc = accuracy_score(Y_test_imdb, y_pred_test_imdb, normalize=True) * float(100)\n",
        "Naive_Bayes_accuracies['imdb'].append(bt_imdb_acc)\n",
        "print('Test accuracy is',(bt_imdb_acc))"
      ],
      "execution_count": null,
      "outputs": [
        {
          "output_type": "stream",
          "text": [
            "Test accuracy is 74.41600000000001\n"
          ],
          "name": "stdout"
        }
      ]
    },
    {
      "cell_type": "markdown",
      "metadata": {
        "id": "GMWPbg7zfX0m"
      },
      "source": [
        "**Unigram + Bigram + Tf-idf**"
      ]
    },
    {
      "cell_type": "code",
      "metadata": {
        "colab": {
          "base_uri": "https://localhost:8080/"
        },
        "id": "RR9g2iYxuMUd",
        "outputId": "bf3f26a9-f220-48de-f311-d93e330765b5"
      },
      "source": [
        "X_train_features_imdb, X_test_features_imdb = feature_extraction_tfidf(X_train_imdb, X_test_imdb,n_gram='both')\n",
        "clf = MultinomialNB(alpha=1)\n",
        "clf.fit(X_train_features_imdb.todense(), Y_train_imdb)\n",
        "\n",
        "y_pred_test_imdb = clf.predict(X_test_features_imdb.todense())\n",
        "but_imdb_acc = accuracy_score(Y_test_imdb, y_pred_test_imdb, normalize=True) * float(100)\n",
        "Naive_Bayes_accuracies['imdb'].append(but_imdb_acc)\n",
        "print('Test accuracy is',(but_imdb_acc))"
      ],
      "execution_count": null,
      "outputs": [
        {
          "output_type": "stream",
          "text": [
            "Test accuracy is 83.00800000000001\n"
          ],
          "name": "stdout"
        }
      ]
    },
    {
      "cell_type": "markdown",
      "metadata": {
        "id": "dfwvnqi5Lu7_"
      },
      "source": [
        "**Subjectivity dataset**"
      ]
    },
    {
      "cell_type": "code",
      "metadata": {
        "colab": {
          "base_uri": "https://localhost:8080/",
          "height": 295
        },
        "id": "xu4bhT6qPo_K",
        "outputId": "4bcd1369-4475-4bba-bc51-ac3358f64c92"
      },
      "source": [
        "# 10-fold cross validation n_gram = unigram\n",
        "k_fold_cross_valid(np.array(X_train_s), np.array(Y_train_s),10,'unigram')"
      ],
      "execution_count": 87,
      "outputs": [
        {
          "output_type": "display_data",
          "data": {
            "image/png": "[encoded data removed]",
            "text/plain": [
              "<Figure size 432x288 with 1 Axes>"
            ]
          },
          "metadata": {
            "tags": [],
            "needs_background": "light"
          }
        }
      ]
    },
    {
      "cell_type": "code",
      "metadata": {
        "colab": {
          "base_uri": "https://localhost:8080/",
          "height": 295
        },
        "id": "DXmTFoWLPxc_",
        "outputId": "75e3b0c8-ed7b-4d6d-f755-907b8300e869"
      },
      "source": [
        "# 10-fold cross validation n_gram = Bigram\n",
        "k_fold_cross_valid(np.array(X_train_s), np.array(Y_train_s),10,'bigram')"
      ],
      "execution_count": 88,
      "outputs": [
        {
          "output_type": "display_data",
          "data": {
            "image/png": "[encoded data removed]",
            "text/plain": [
              "<Figure size 432x288 with 1 Axes>"
            ]
          },
          "metadata": {
            "tags": [],
            "needs_background": "light"
          }
        }
      ]
    },
    {
      "cell_type": "code",
      "metadata": {
        "colab": {
          "base_uri": "https://localhost:8080/",
          "height": 295
        },
        "id": "yAjiH6yTPz25",
        "outputId": "a0dab7cc-e5d0-43d1-e9b0-834c902ad4d5"
      },
      "source": [
        "# 10-fold cross validation n_gram = unigram + Bigram\n",
        "k_fold_cross_valid(np.array(X_train_s), np.array(Y_train_s),10,'both')"
      ],
      "execution_count": 89,
      "outputs": [
        {
          "output_type": "display_data",
          "data": {
            "image/png": "[encoded data removed]",
            "text/plain": [
              "<Figure size 432x288 with 1 Axes>"
            ]
          },
          "metadata": {
            "tags": [],
            "needs_background": "light"
          }
        }
      ]
    },
    {
      "cell_type": "markdown",
      "metadata": {
        "id": "1x8brdwpM3HA"
      },
      "source": [
        "**Unigram**"
      ]
    },
    {
      "cell_type": "code",
      "metadata": {
        "colab": {
          "base_uri": "https://localhost:8080/"
        },
        "id": "mCzrFc1cM2vC",
        "outputId": "f8d0a3af-a45a-4956-9ede-7c0d56a2635a"
      },
      "source": [
        "X_train_features_sub, X_test_features_sub = feature_extraction(X_train_s, X_test_s)\n",
        "clf = MultinomialNB(alpha=1)\n",
        "clf.fit(X_train_features_sub.todense(), Y_train_s)\n",
        "\n",
        "y_pred_test_s = clf.predict(X_test_features_sub.todense())\n",
        "unigram_sub_acc = accuracy_score(Y_test_s, y_pred_test_s, normalize=True) * float(100)\n",
        "Naive_Bayes_accuracies['subjectivity'].append(unigram_sub_acc)\n",
        "print('Test accuracy is',(unigram_sub_acc))"
      ],
      "execution_count": 90,
      "outputs": [
        {
          "output_type": "stream",
          "text": [
            "Test accuracy is 86.6\n"
          ],
          "name": "stdout"
        }
      ]
    },
    {
      "cell_type": "markdown",
      "metadata": {
        "id": "qwvRy3mFQdy4"
      },
      "source": [
        "**Bigram**"
      ]
    },
    {
      "cell_type": "code",
      "metadata": {
        "colab": {
          "base_uri": "https://localhost:8080/"
        },
        "id": "dRT21DdEQgd_",
        "outputId": "5ef04e2e-29e6-4f1c-8ff1-3c31d5391f9b"
      },
      "source": [
        "X_train_features_sub, X_test_features_sub = feature_extraction(X_train_s, X_test_s, n_gram = 'bigram')\n",
        "clf = MultinomialNB(alpha=1)\n",
        "clf.fit(X_train_features_sub.todense(), Y_train_s)\n",
        "\n",
        "y_pred_test_s = clf.predict(X_test_features_sub.todense())\n",
        "bigram_sub_acc = accuracy_score(Y_test_s, y_pred_test_s, normalize=True) * float(100)\n",
        "Naive_Bayes_accuracies['subjectivity'].append(bigram_sub_acc)\n",
        "print('Test accuracy is',(bigram_sub_acc))"
      ],
      "execution_count": 93,
      "outputs": [
        {
          "output_type": "stream",
          "text": [
            "Test accuracy is 62.866666666666674\n"
          ],
          "name": "stdout"
        }
      ]
    },
    {
      "cell_type": "markdown",
      "metadata": {
        "id": "F-AbqPklQvK2"
      },
      "source": [
        "**Unigram + Bigram**"
      ]
    },
    {
      "cell_type": "code",
      "metadata": {
        "colab": {
          "base_uri": "https://localhost:8080/"
        },
        "id": "w_ZTnGkTQyod",
        "outputId": "84de0266-8212-4b9f-bee6-f57193fe782a"
      },
      "source": [
        "X_train_features_sub, X_test_features_sub = feature_extraction(X_train_s, X_test_s, n_gram = 'both')\n",
        "clf = MultinomialNB(alpha=1)\n",
        "clf.fit(X_train_features_sub.todense(), Y_train_s)\n",
        "\n",
        "y_pred_test_s = clf.predict(X_test_features_sub.todense())\n",
        "ub_sub_acc = accuracy_score(Y_test_s, y_pred_test_s, normalize=True) * float(100)\n",
        "Naive_Bayes_accuracies['subjectivity'].append(ub_sub_acc)\n",
        "print('Test accuracy is',(ub_sub_acc))"
      ],
      "execution_count": 94,
      "outputs": [
        {
          "output_type": "stream",
          "text": [
            "Test accuracy is 86.53333333333333\n"
          ],
          "name": "stdout"
        }
      ]
    },
    {
      "cell_type": "markdown",
      "metadata": {
        "id": "IHRwHbVNQ8Iw"
      },
      "source": [
        "**Unigram + TI-IDF**"
      ]
    },
    {
      "cell_type": "code",
      "metadata": {
        "colab": {
          "base_uri": "https://localhost:8080/"
        },
        "id": "13HA5S2VQ_ob",
        "outputId": "2091ecd2-0817-4e1f-9682-d39a880004c4"
      },
      "source": [
        "X_train_features_sub, X_test_features_sub = feature_extraction_tfidf(X_train_s, X_test_s)\n",
        "clf = MultinomialNB(alpha=1)\n",
        "clf.fit(X_train_features_sub.todense(), Y_train_s)\n",
        "\n",
        "y_pred_test_s = clf.predict(X_test_features_sub.todense())\n",
        "unigram_sub_acc_ti = accuracy_score(Y_test_s, y_pred_test_s, normalize=True) * float(100)\n",
        "Naive_Bayes_accuracies['subjectivity'].append(unigram_sub_acc_ti)\n",
        "print('Test accuracy is',(unigram_sub_acc_ti))"
      ],
      "execution_count": 97,
      "outputs": [
        {
          "output_type": "stream",
          "text": [
            "Test accuracy is 86.83333333333333\n"
          ],
          "name": "stdout"
        }
      ]
    },
    {
      "cell_type": "markdown",
      "metadata": {
        "id": "p96yhSeuRST-"
      },
      "source": [
        "**Bigram + TI-IDF**"
      ]
    },
    {
      "cell_type": "code",
      "metadata": {
        "colab": {
          "base_uri": "https://localhost:8080/"
        },
        "id": "JNcfTdodRVN6",
        "outputId": "57c9c23a-a69b-44d3-ce2c-0fd79798c4ee"
      },
      "source": [
        "X_train_features_sub, X_test_features_sub = feature_extraction_tfidf(X_train_s, X_test_s, n_gram='bigram')\n",
        "clf = MultinomialNB(alpha=1)\n",
        "clf.fit(X_train_features_sub.todense(), Y_train_s)\n",
        "\n",
        "y_pred_test_s = clf.predict(X_test_features_sub.todense())\n",
        "bigram_sub_acc_ti = accuracy_score(Y_test_s, y_pred_test_s, normalize=True) * float(100)\n",
        "Naive_Bayes_accuracies['subjectivity'].append(bigram_sub_acc_ti)\n",
        "print('Test accuracy is',(bigram_sub_acc_ti))"
      ],
      "execution_count": 100,
      "outputs": [
        {
          "output_type": "stream",
          "text": [
            "Test accuracy is 62.56666666666667\n"
          ],
          "name": "stdout"
        }
      ]
    },
    {
      "cell_type": "markdown",
      "metadata": {
        "id": "HjoXVRNGRgb5"
      },
      "source": [
        "**Unigram + Bigram + TI-IDF**"
      ]
    },
    {
      "cell_type": "code",
      "metadata": {
        "colab": {
          "base_uri": "https://localhost:8080/"
        },
        "id": "iqRPx92DRjYs",
        "outputId": "17678300-9159-45a7-c24b-090d56dbaf95"
      },
      "source": [
        "X_train_features_sub, X_test_features_sub = feature_extraction_tfidf(X_train_s, X_test_s, n_gram='both')\n",
        "clf = MultinomialNB(alpha=1)\n",
        "clf.fit(X_train_features_sub.todense(), Y_train_s)\n",
        "\n",
        "y_pred_test_s = clf.predict(X_test_features_sub.todense())\n",
        "ub_sub_acc_ti = accuracy_score(Y_test_s, y_pred_test_s, normalize=True) * float(100)\n",
        "Naive_Bayes_accuracies['subjectivity'].append(ub_sub_acc_ti)\n",
        "print('Test accuracy is',(ub_sub_acc_ti))"
      ],
      "execution_count": 101,
      "outputs": [
        {
          "output_type": "stream",
          "text": [
            "Test accuracy is 86.66666666666667\n"
          ],
          "name": "stdout"
        }
      ]
    },
    {
      "cell_type": "code",
      "metadata": {
        "colab": {
          "base_uri": "https://localhost:8080/",
          "height": 235
        },
        "id": "tz9QLXo5S1SM",
        "outputId": "7cf67503-3e60-45dd-b1e8-e8df8d5eebe0"
      },
      "source": [
        "pd.DataFrame(Naive_Bayes_accuracies)"
      ],
      "execution_count": 104,
      "outputs": [
        {
          "output_type": "execute_result",
          "data": {
            "text/html": [
              "<div>\n",
              "<style scoped>\n",
              "    .dataframe tbody tr th:only-of-type {\n",
              "        vertical-align: middle;\n",
              "    }\n",
              "\n",
              "    .dataframe tbody tr th {\n",
              "        vertical-align: top;\n",
              "    }\n",
              "\n",
              "    .dataframe thead th {\n",
              "        text-align: right;\n",
              "    }\n",
              "</style>\n",
              "<table border=\"1\" class=\"dataframe\">\n",
              "  <thead>\n",
              "    <tr style=\"text-align: right;\">\n",
              "      <th></th>\n",
              "      <th>Features</th>\n",
              "      <th>PL04</th>\n",
              "      <th>imdb</th>\n",
              "      <th>subjectivity</th>\n",
              "    </tr>\n",
              "  </thead>\n",
              "  <tbody>\n",
              "    <tr>\n",
              "      <th>0</th>\n",
              "      <td>Unigram</td>\n",
              "      <td>79.0</td>\n",
              "      <td>82.272</td>\n",
              "      <td>86.600000</td>\n",
              "    </tr>\n",
              "    <tr>\n",
              "      <th>1</th>\n",
              "      <td>Bigram</td>\n",
              "      <td>74.4</td>\n",
              "      <td>74.432</td>\n",
              "      <td>62.866600</td>\n",
              "    </tr>\n",
              "    <tr>\n",
              "      <th>2</th>\n",
              "      <td>Unigram+Bigram</td>\n",
              "      <td>80.6</td>\n",
              "      <td>82.656</td>\n",
              "      <td>86.533333</td>\n",
              "    </tr>\n",
              "    <tr>\n",
              "      <th>3</th>\n",
              "      <td>Unigram+TI-IDF</td>\n",
              "      <td>78.8</td>\n",
              "      <td>82.604</td>\n",
              "      <td>86.833333</td>\n",
              "    </tr>\n",
              "    <tr>\n",
              "      <th>4</th>\n",
              "      <td>Bigram+TI-IDF</td>\n",
              "      <td>77.0</td>\n",
              "      <td>74.416</td>\n",
              "      <td>62.566667</td>\n",
              "    </tr>\n",
              "    <tr>\n",
              "      <th>5</th>\n",
              "      <td>Unigram+Bigram+TI-IDF</td>\n",
              "      <td>78.8</td>\n",
              "      <td>83.008</td>\n",
              "      <td>86.666667</td>\n",
              "    </tr>\n",
              "  </tbody>\n",
              "</table>\n",
              "</div>"
            ],
            "text/plain": [
              "                Features  PL04    imdb  subjectivity\n",
              "0                Unigram  79.0  82.272     86.600000\n",
              "1                 Bigram  74.4  74.432     62.866600\n",
              "2         Unigram+Bigram  80.6  82.656     86.533333\n",
              "3         Unigram+TI-IDF  78.8  82.604     86.833333\n",
              "4          Bigram+TI-IDF  77.0  74.416     62.566667\n",
              "5  Unigram+Bigram+TI-IDF  78.8  83.008     86.666667"
            ]
          },
          "metadata": {
            "tags": []
          },
          "execution_count": 104
        }
      ]
    },
    {
      "cell_type": "markdown",
      "metadata": {
        "id": "pfeNBMYGDP0o"
      },
      "source": [
        "## Decison Tree"
      ]
    },
    {
      "cell_type": "code",
      "metadata": {
        "id": "GUUKKlwKO7JX"
      },
      "source": [
        "Decision_tree_accuracy = {\n",
        "    \"Criteria\" : ['Gini' , 'Entropy'],\n",
        "    \"PL04\" : [],\n",
        "    \"imdb\" : [],\n",
        "    \"Subjectivity\" : []\n",
        "}"
      ],
      "execution_count": 105,
      "outputs": []
    },
    {
      "cell_type": "markdown",
      "metadata": {
        "id": "9b_9Sw1DO7JY"
      },
      "source": [
        "**Polarity Dataset**"
      ]
    },
    {
      "cell_type": "code",
      "metadata": {
        "colab": {
          "base_uri": "https://localhost:8080/"
        },
        "id": "taJkIil2uSNB",
        "outputId": "f519b00f-4648-4dd3-8eb5-1d88c1da5ef0"
      },
      "source": [
        "# X_train_features, X_test_features\n",
        "X_train_features_p, X_test_features_p = feature_extraction(X_train_p, X_test_p)\n",
        "decision_tree_polarity = DecisionTreeClassifier() # Gini\n",
        "decision_tree_polarity.fit(X_train_features_p, Y_train_p)\n",
        "y_pred_test_p = decision_tree_polarity.predict(X_test_features_p)\n",
        "dt_acc_gini = accuracy_score(Y_test_p, y_pred_test_p, normalize=True) * float(100)\n",
        "Decision_tree_accuracy['PL04'].append(dt_acc_gini)\n",
        "print('Test accuracy is',(dt_acc_gini))"
      ],
      "execution_count": null,
      "outputs": [
        {
          "output_type": "stream",
          "text": [
            "Test accuracy is 65.2\n"
          ],
          "name": "stdout"
        }
      ]
    },
    {
      "cell_type": "code",
      "metadata": {
        "colab": {
          "base_uri": "https://localhost:8080/"
        },
        "id": "IztUaKiZuTs1",
        "outputId": "7c59911e-98d3-4862-dcaa-7eb1721ffc03"
      },
      "source": [
        "# X_train_features, X_test_features\n",
        "X_train_features_p, X_test_features_p = feature_extraction(X_train_p, X_test_p)\n",
        "decision_tree_polarity = DecisionTreeClassifier(criterion = 'entropy')\n",
        "decision_tree_polarity.fit(X_train_features_p, Y_train_p)\n",
        "y_pred_test_p = decision_tree_polarity.predict(X_test_features_p)\n",
        "dt_acc_entropy = accuracy_score(Y_test_p, y_pred_test_p, normalize=True) * float(100)\n",
        "Decision_tree_accuracy['PL04'].append(dt_acc_entropy)\n",
        "print('Test accuracy is',(dt_acc_entropy))"
      ],
      "execution_count": null,
      "outputs": [
        {
          "output_type": "stream",
          "text": [
            "Test accuracy is 60.199999999999996\n"
          ],
          "name": "stdout"
        }
      ]
    },
    {
      "cell_type": "markdown",
      "metadata": {
        "id": "4M8G5WdqO7JZ"
      },
      "source": [
        "**Imdb Dataset**"
      ]
    },
    {
      "cell_type": "code",
      "metadata": {
        "colab": {
          "base_uri": "https://localhost:8080/"
        },
        "id": "gsiGqm2TuW9Q",
        "outputId": "c903b5d8-4913-4e39-e22c-5b56f78f1078"
      },
      "source": [
        "X_train_features_imdb, X_test_features_imdb = feature_extraction(X_train_imdb, X_test_imdb)\n",
        "decision_tree_imdb = DecisionTreeClassifier(criterion = 'entropy')\n",
        "decision_tree_polarity.fit(X_train_features_imdb, Y_train_imdb)\n",
        "y_pred_test_imdb = decision_tree_polarity.predict(X_test_features_imdb)\n",
        "dt_acc_entropy_imdb = accuracy_score(Y_test_imdb, y_pred_test_imdb, normalize=True) * float(100)\n",
        "Decision_tree_accuracy['imdb'].append(dt_acc_entropy_imdb)\n",
        "print('Test accuracy is',(dt_acc_entropy_imdb))"
      ],
      "execution_count": null,
      "outputs": [
        {
          "output_type": "stream",
          "text": [
            "Test accuracy is 70.06\n"
          ],
          "name": "stdout"
        }
      ]
    },
    {
      "cell_type": "code",
      "metadata": {
        "colab": {
          "base_uri": "https://localhost:8080/"
        },
        "id": "vw_gR2Q7uYYg",
        "outputId": "4f8ac6fb-edeb-40be-baba-723e9ea653fa"
      },
      "source": [
        "X_train_features_imdb, X_test_features_imdb = feature_extraction(X_train_imdb, X_test_imdb)\n",
        "decision_tree_imdb = DecisionTreeClassifier()\n",
        "decision_tree_polarity.fit(X_train_features_imdb, Y_train_imdb)\n",
        "y_pred_test_imdb = decision_tree_polarity.predict(X_test_features_imdb)\n",
        "dt_acc_gini_imdb = accuracy_score(Y_test_imdb, y_pred_test_imdb, normalize=True) * float(100)\n",
        "Decision_tree_accuracy['imdb'].append(dt_acc_gini_imdb)\n",
        "print('Test accuracy is',(dt_acc_gini_imdb))"
      ],
      "execution_count": null,
      "outputs": [
        {
          "output_type": "stream",
          "text": [
            "Test accuracy is 69.892\n"
          ],
          "name": "stdout"
        }
      ]
    },
    {
      "cell_type": "markdown",
      "metadata": {
        "id": "2to9u_cmTAPp"
      },
      "source": [
        "**Subjectivity Dataset**"
      ]
    },
    {
      "cell_type": "code",
      "metadata": {
        "colab": {
          "base_uri": "https://localhost:8080/"
        },
        "id": "sFOdlmP0TE0d",
        "outputId": "9a821672-4682-4181-caac-a2657314fc97"
      },
      "source": [
        "# X_train_features, X_test_features\n",
        "X_train_features_s, X_test_features_s = feature_extraction(X_train_s, X_test_s)\n",
        "decision_tree_subjectivity = DecisionTreeClassifier() # Gini\n",
        "decision_tree_subjectivity.fit(X_train_features_s, Y_train_s)\n",
        "y_pred_test_s = decision_tree_subjectivity.predict(X_test_features_s)\n",
        "dt_acc_gini_s = accuracy_score(Y_test_s, y_pred_test_s, normalize=True) * float(100)\n",
        "Decision_tree_accuracy['PL04'].append(dt_acc_gini)\n",
        "print('Test accuracy is',(dt_acc_gini_s))"
      ],
      "execution_count": 108,
      "outputs": [
        {
          "output_type": "stream",
          "text": [
            "Test accuracy is 75.76666666666667\n"
          ],
          "name": "stdout"
        }
      ]
    },
    {
      "cell_type": "code",
      "metadata": {
        "colab": {
          "base_uri": "https://localhost:8080/"
        },
        "id": "w3P38ggGTn-s",
        "outputId": "35d16a98-7a45-4417-fb33-c7b4a612e0a3"
      },
      "source": [
        "# X_train_features, X_test_features\n",
        "X_train_features_s, X_test_features_s = feature_extraction(X_train_s, X_test_s)\n",
        "decision_tree_subjectivity = DecisionTreeClassifier(criterion='entropy')\n",
        "decision_tree_subjectivity.fit(X_train_features_s, Y_train_s)\n",
        "y_pred_test_s = decision_tree_subjectivity.predict(X_test_features_s)\n",
        "dt_acc_gini_e = accuracy_score(Y_test_s, y_pred_test_s, normalize=True) * float(100)\n",
        "Decision_tree_accuracy['PL04'].append(dt_acc_gini_e)\n",
        "print('Test accuracy is',(dt_acc_gini_e))"
      ],
      "execution_count": 109,
      "outputs": [
        {
          "output_type": "stream",
          "text": [
            "Test accuracy is 77.36666666666666\n"
          ],
          "name": "stdout"
        }
      ]
    },
    {
      "cell_type": "code",
      "metadata": {
        "colab": {
          "base_uri": "https://localhost:8080/",
          "height": 111
        },
        "id": "7hTJMPqDT5YO",
        "outputId": "8565e6df-7ece-489a-eb9a-32c46383d462"
      },
      "source": [
        "pd.DataFrame(Decision_tree_accuracy)"
      ],
      "execution_count": 111,
      "outputs": [
        {
          "output_type": "execute_result",
          "data": {
            "text/html": [
              "<div>\n",
              "<style scoped>\n",
              "    .dataframe tbody tr th:only-of-type {\n",
              "        vertical-align: middle;\n",
              "    }\n",
              "\n",
              "    .dataframe tbody tr th {\n",
              "        vertical-align: top;\n",
              "    }\n",
              "\n",
              "    .dataframe thead th {\n",
              "        text-align: right;\n",
              "    }\n",
              "</style>\n",
              "<table border=\"1\" class=\"dataframe\">\n",
              "  <thead>\n",
              "    <tr style=\"text-align: right;\">\n",
              "      <th></th>\n",
              "      <th>Criteria</th>\n",
              "      <th>PL04</th>\n",
              "      <th>imdb</th>\n",
              "      <th>Subjectivity</th>\n",
              "    </tr>\n",
              "  </thead>\n",
              "  <tbody>\n",
              "    <tr>\n",
              "      <th>0</th>\n",
              "      <td>Gini</td>\n",
              "      <td>65.2</td>\n",
              "      <td>70.060</td>\n",
              "      <td>75.766667</td>\n",
              "    </tr>\n",
              "    <tr>\n",
              "      <th>1</th>\n",
              "      <td>Entropy</td>\n",
              "      <td>60.2</td>\n",
              "      <td>69.892</td>\n",
              "      <td>77.366667</td>\n",
              "    </tr>\n",
              "  </tbody>\n",
              "</table>\n",
              "</div>"
            ],
            "text/plain": [
              "  Criteria  PL04    imdb  Subjectivity\n",
              "0     Gini  65.2  70.060     75.766667\n",
              "1  Entropy  60.2  69.892     77.366667"
            ]
          },
          "metadata": {
            "tags": []
          },
          "execution_count": 111
        }
      ]
    },
    {
      "cell_type": "markdown",
      "metadata": {
        "id": "aNG2dnYREbOp"
      },
      "source": [
        "## SVM"
      ]
    },
    {
      "cell_type": "code",
      "metadata": {
        "id": "HY-Bk33Wrvwq"
      },
      "source": [
        "svm_acc = {\n",
        "    \"Dataset\" : [\"PL04\" , \"IMDB\", \"subjectivity\"],\n",
        "    \"Accuracy\" : None\n",
        "}"
      ],
      "execution_count": 112,
      "outputs": []
    },
    {
      "cell_type": "markdown",
      "metadata": {
        "id": "1exd2Jr1rMIw"
      },
      "source": [
        "**Polarity Dataset**"
      ]
    },
    {
      "cell_type": "code",
      "metadata": {
        "id": "RAKlX148EeiX",
        "colab": {
          "base_uri": "https://localhost:8080/"
        },
        "outputId": "fec79719-6989-4149-86a9-dd04e3423aea"
      },
      "source": [
        "x_train, x_test = feature_extraction(X_train_p, X_test_p)\n",
        "svm = LinearSVC()\n",
        "svm.fit(x_train, Y_train_p)\n",
        "y_pred = svm.predict(x_test)\n",
        "svm_polarity_acc = accuracy_score(Y_test_p, y_pred, normalize=True) * float(100)\n",
        "print('Test accuracy is',(svm_polarity_acc))"
      ],
      "execution_count": null,
      "outputs": [
        {
          "output_type": "stream",
          "text": [
            "Test accuracy is 78.60000000000001\n"
          ],
          "name": "stdout"
        }
      ]
    },
    {
      "cell_type": "markdown",
      "metadata": {
        "id": "4t8MblMgsBUZ"
      },
      "source": [
        "**IMDB**"
      ]
    },
    {
      "cell_type": "code",
      "metadata": {
        "colab": {
          "base_uri": "https://localhost:8080/"
        },
        "id": "1nmxMEjZsAKF",
        "outputId": "19902cb7-0677-4d2d-93b6-d7d8a06f6c16"
      },
      "source": [
        "x_train_imdb, x_test_imdb = feature_extraction(X_train_imdb, X_test_imdb)\n",
        "svm = LinearSVC()\n",
        "svm.fit(x_train_imdb, Y_train_imdb)\n",
        "y_pred = svm.predict(x_test_imdb)\n",
        "svm_imdb_acc = accuracy_score(Y_test_imdb, y_pred, normalize=True) * float(100)\n",
        "print('Test accuracy is',(svm_imdb_acc))"
      ],
      "execution_count": null,
      "outputs": [
        {
          "output_type": "stream",
          "text": [
            "Test accuracy is 83.852\n"
          ],
          "name": "stdout"
        }
      ]
    },
    {
      "cell_type": "markdown",
      "metadata": {
        "id": "pw2vt-PKUEUD"
      },
      "source": [
        "**Subjectivity Dataset**"
      ]
    },
    {
      "cell_type": "code",
      "metadata": {
        "colab": {
          "base_uri": "https://localhost:8080/"
        },
        "id": "cPa4uW_YUIH5",
        "outputId": "fca590be-af80-4931-9ef9-95c03e5f3f6d"
      },
      "source": [
        "x_train_s, x_test_s = feature_extraction(X_train_s, X_test_s)\n",
        "svm = LinearSVC()\n",
        "svm.fit(x_train_s, Y_train_s)\n",
        "y_pred_s = svm.predict(x_test_s)\n",
        "svm_sub_acc = accuracy_score(Y_test_s, y_pred_s, normalize=True) * float(100)\n",
        "print('Test accuracy is',(svm_sub_acc))"
      ],
      "execution_count": 114,
      "outputs": [
        {
          "output_type": "stream",
          "text": [
            "Test accuracy is 83.43333333333334\n"
          ],
          "name": "stdout"
        }
      ]
    },
    {
      "cell_type": "code",
      "metadata": {
        "colab": {
          "base_uri": "https://localhost:8080/",
          "height": 142
        },
        "id": "gt5ZyGf9UGmM",
        "outputId": "8eb10138-4d1e-4d40-c016-9ce5b53e5757"
      },
      "source": [
        "svm_acc[\"Accuracy\"] = [svm_polarity_acc, svm_imdb_acc,svm_sub_acc]\n",
        "pd.DataFrame(svm_acc)"
      ],
      "execution_count": 115,
      "outputs": [
        {
          "output_type": "execute_result",
          "data": {
            "text/html": [
              "<div>\n",
              "<style scoped>\n",
              "    .dataframe tbody tr th:only-of-type {\n",
              "        vertical-align: middle;\n",
              "    }\n",
              "\n",
              "    .dataframe tbody tr th {\n",
              "        vertical-align: top;\n",
              "    }\n",
              "\n",
              "    .dataframe thead th {\n",
              "        text-align: right;\n",
              "    }\n",
              "</style>\n",
              "<table border=\"1\" class=\"dataframe\">\n",
              "  <thead>\n",
              "    <tr style=\"text-align: right;\">\n",
              "      <th></th>\n",
              "      <th>Dataset</th>\n",
              "      <th>Accuracy</th>\n",
              "    </tr>\n",
              "  </thead>\n",
              "  <tbody>\n",
              "    <tr>\n",
              "      <th>0</th>\n",
              "      <td>PL04</td>\n",
              "      <td>78.600000</td>\n",
              "    </tr>\n",
              "    <tr>\n",
              "      <th>1</th>\n",
              "      <td>IMDB</td>\n",
              "      <td>83.852000</td>\n",
              "    </tr>\n",
              "    <tr>\n",
              "      <th>2</th>\n",
              "      <td>subjectivity</td>\n",
              "      <td>83.433333</td>\n",
              "    </tr>\n",
              "  </tbody>\n",
              "</table>\n",
              "</div>"
            ],
            "text/plain": [
              "        Dataset   Accuracy\n",
              "0          PL04  78.600000\n",
              "1          IMDB  83.852000\n",
              "2  subjectivity  83.433333"
            ]
          },
          "metadata": {
            "tags": []
          },
          "execution_count": 115
        }
      ]
    },
    {
      "cell_type": "markdown",
      "metadata": {
        "id": "GcMgBGNYYI0w"
      },
      "source": [
        "## CNN"
      ]
    },
    {
      "cell_type": "code",
      "metadata": {
        "id": "bP6o-FcXTlBp"
      },
      "source": [
        "def cnn(X_train_p, X_test_p, Y_train_p, Y_test_p, epochs):\n",
        "\n",
        "    train_tokenizer = Tokenizer(num_words=2000,oov_token=\"unk\")\n",
        "    train_tokenizer.fit_on_texts(X_train_p)\n",
        "\n",
        "    ##\n",
        "    test_tokenizer = Tokenizer(num_words=2000,oov_token=\"unk\")\n",
        "    test_tokenizer.fit_on_texts(X_test_p)\n",
        "\n",
        "    ##\n",
        "    x_train = np.array(train_tokenizer.texts_to_sequences(X_train_p))\n",
        "\n",
        "    ##\n",
        "    x_test = np.array(test_tokenizer.texts_to_sequences(X_test_p) )\n",
        "\n",
        "    ##\n",
        "    max_len = len(max(x_train,key=len))\n",
        "\n",
        "    ##\n",
        "    x_train = pad_sequences(x_train, padding='post', maxlen=max_len)\n",
        "    x_test  = pad_sequences(x_test, padding='post', maxlen=max_len)\n",
        "\n",
        "    ##\n",
        "    label_encoder = LabelEncoder()\n",
        "\n",
        "    y_train = label_encoder.fit_transform(Y_train_p)\n",
        "    y_train = np.asarray( tf.keras.utils.to_categorical(y_train))\n",
        "    y_test = label_encoder.fit_transform(Y_test_p)\n",
        "    y_test = np.asarray( tf.keras.utils.to_categorical(y_test))\n",
        "    x_train.shape, x_test.shape, y_train.shape, y_test.shape\n",
        "\n",
        "    ##\n",
        "    max_features =2000\n",
        "    embedding_dim =64\n",
        "    sequence_length = max_len\n",
        "\n",
        "    model = tf.keras.Sequential()\n",
        "\n",
        "    model.add(Embedding(max_features +1, embedding_dim, input_length=sequence_length))                                    \n",
        "\n",
        "    model.add(Conv1D(512,3, activation='relu'))                               \n",
        "\n",
        "    model.add(GlobalMaxPooling1D())\n",
        "\n",
        "    model.add(Dense(128, activation='relu'))\n",
        "    \n",
        "    model.add(Dropout(0.5))\n",
        "\n",
        "    model.add(Dense(2, activation='softmax'))\n",
        "\n",
        "    model.compile(optimizer='adam',\n",
        "                  loss='binary_crossentropy',\n",
        "                  metrics=['accuracy'])\n",
        "\n",
        "    model.summary()\n",
        "\n",
        "    model.compile(optimizer='adam',\n",
        "              loss='binary_crossentropy',\n",
        "              metrics=['accuracy'])\n",
        "\n",
        "    ##\n",
        "    model.fit(x_train, y_train, epochs=epochs, verbose=2)\n",
        "\n",
        "    ##\n",
        "    acc = model.evaluate(x_test, y_test, verbose=0)\n",
        "\n",
        "    return acc"
      ],
      "execution_count": 26,
      "outputs": []
    },
    {
      "cell_type": "code",
      "metadata": {
        "id": "CLAtwyMfvdcd"
      },
      "source": [
        "cnn_accuracy = {\n",
        "    \"Dataset\" : [\"subjectivity\", \"polarity\", \"Imdb\"],\n",
        "    \"Accuracy\" : None\n",
        "}"
      ],
      "execution_count": 39,
      "outputs": []
    },
    {
      "cell_type": "markdown",
      "metadata": {
        "id": "PsIRC2FNY_Eg"
      },
      "source": [
        "**Subjectivity Dataset**"
      ]
    },
    {
      "cell_type": "code",
      "metadata": {
        "colab": {
          "base_uri": "https://localhost:8080/"
        },
        "id": "qT450wQ_uh0n",
        "outputId": "1e88a828-fd36-49e0-b781-11745f3e40d2"
      },
      "source": [
        "sub_acc = cnn(X_train_s, X_test_s, Y_train_s, Y_test_s,10)\n",
        "sub_acc"
      ],
      "execution_count": 36,
      "outputs": [
        {
          "output_type": "stream",
          "text": [
            "Model: \"sequential_1\"\n",
            "_________________________________________________________________\n",
            "Layer (type)                 Output Shape              Param #   \n",
            "=================================================================\n",
            "embedding_1 (Embedding)      (None, 47, 64)            128064    \n",
            "_________________________________________________________________\n",
            "conv1d_3 (Conv1D)            (None, 45, 512)           98816     \n",
            "_________________________________________________________________\n",
            "global_max_pooling1d (Global (None, 512)               0         \n",
            "_________________________________________________________________\n",
            "dense_2 (Dense)              (None, 128)               65664     \n",
            "_________________________________________________________________\n",
            "dropout_1 (Dropout)          (None, 128)               0         \n",
            "_________________________________________________________________\n",
            "dense_3 (Dense)              (None, 2)                 258       \n",
            "=================================================================\n",
            "Total params: 292,802\n",
            "Trainable params: 292,802\n",
            "Non-trainable params: 0\n",
            "_________________________________________________________________\n",
            "Epoch 1/10\n",
            "219/219 - 7s - loss: 0.4793 - accuracy: 0.7673\n",
            "Epoch 2/10\n",
            "219/219 - 6s - loss: 0.2623 - accuracy: 0.8990\n",
            "Epoch 3/10\n",
            "219/219 - 6s - loss: 0.1751 - accuracy: 0.9413\n",
            "Epoch 4/10\n",
            "219/219 - 6s - loss: 0.1081 - accuracy: 0.9654\n",
            "Epoch 5/10\n",
            "219/219 - 6s - loss: 0.0503 - accuracy: 0.9833\n",
            "Epoch 6/10\n",
            "219/219 - 6s - loss: 0.0261 - accuracy: 0.9931\n",
            "Epoch 7/10\n",
            "219/219 - 6s - loss: 0.0154 - accuracy: 0.9953\n",
            "Epoch 8/10\n",
            "219/219 - 6s - loss: 0.0093 - accuracy: 0.9977\n",
            "Epoch 9/10\n",
            "219/219 - 6s - loss: 0.0067 - accuracy: 0.9979\n",
            "Epoch 10/10\n",
            "219/219 - 6s - loss: 0.0102 - accuracy: 0.9963\n"
          ],
          "name": "stdout"
        },
        {
          "output_type": "execute_result",
          "data": {
            "text/plain": [
              "[4.28924036026001, 0.5403333306312561]"
            ]
          },
          "metadata": {
            "tags": []
          },
          "execution_count": 36
        }
      ]
    },
    {
      "cell_type": "markdown",
      "metadata": {
        "id": "rNe83fR7pMG6"
      },
      "source": [
        "**Polarity Dataset**"
      ]
    },
    {
      "cell_type": "code",
      "metadata": {
        "colab": {
          "base_uri": "https://localhost:8080/"
        },
        "id": "QpeoGT6xYMq5",
        "outputId": "e4e4db7a-497f-4d5e-e005-fa0a2181cc2f"
      },
      "source": [
        "polarity_acc = cnn(X_train_p, X_test_p, Y_train_p, Y_test_p,10)\n",
        "polarity_acc"
      ],
      "execution_count": 37,
      "outputs": [
        {
          "output_type": "stream",
          "text": [
            "Model: \"sequential_2\"\n",
            "_________________________________________________________________\n",
            "Layer (type)                 Output Shape              Param #   \n",
            "=================================================================\n",
            "embedding_2 (Embedding)      (None, 1301, 64)          128064    \n",
            "_________________________________________________________________\n",
            "conv1d_4 (Conv1D)            (None, 1299, 512)         98816     \n",
            "_________________________________________________________________\n",
            "global_max_pooling1d_1 (Glob (None, 512)               0         \n",
            "_________________________________________________________________\n",
            "dense_4 (Dense)              (None, 128)               65664     \n",
            "_________________________________________________________________\n",
            "dropout_2 (Dropout)          (None, 128)               0         \n",
            "_________________________________________________________________\n",
            "dense_5 (Dense)              (None, 2)                 258       \n",
            "=================================================================\n",
            "Total params: 292,802\n",
            "Trainable params: 292,802\n",
            "Non-trainable params: 0\n",
            "_________________________________________________________________\n",
            "Epoch 1/10\n",
            "44/44 - 29s - loss: 0.6936 - accuracy: 0.5179\n",
            "Epoch 2/10\n",
            "44/44 - 28s - loss: 0.6830 - accuracy: 0.5914\n",
            "Epoch 3/10\n",
            "44/44 - 28s - loss: 0.6277 - accuracy: 0.6607\n",
            "Epoch 4/10\n",
            "44/44 - 28s - loss: 0.4834 - accuracy: 0.7921\n",
            "Epoch 5/10\n",
            "44/44 - 29s - loss: 0.2999 - accuracy: 0.8879\n",
            "Epoch 6/10\n",
            "44/44 - 29s - loss: 0.1565 - accuracy: 0.9550\n",
            "Epoch 7/10\n",
            "44/44 - 29s - loss: 0.0570 - accuracy: 0.9929\n",
            "Epoch 8/10\n",
            "44/44 - 28s - loss: 0.0246 - accuracy: 0.9979\n",
            "Epoch 9/10\n",
            "44/44 - 29s - loss: 0.0107 - accuracy: 1.0000\n",
            "Epoch 10/10\n",
            "44/44 - 28s - loss: 0.0066 - accuracy: 0.9993\n"
          ],
          "name": "stdout"
        },
        {
          "output_type": "execute_result",
          "data": {
            "text/plain": [
              "[1.892805814743042, 0.4933333396911621]"
            ]
          },
          "metadata": {
            "tags": []
          },
          "execution_count": 37
        }
      ]
    },
    {
      "cell_type": "markdown",
      "metadata": {
        "id": "BA-7PNAYpU9U"
      },
      "source": [
        "**Imdb dataset**"
      ]
    },
    {
      "cell_type": "code",
      "metadata": {
        "colab": {
          "base_uri": "https://localhost:8080/"
        },
        "id": "JTvgKZQ3pZ-U",
        "outputId": "2ace8a36-c222-4804-b9a3-4788898e4a41"
      },
      "source": [
        "imdb_acc = cnn(X_train_imdb, X_test_imdb, Y_train_imdb, Y_test_imdb,10)\n",
        "imdb_acc"
      ],
      "execution_count": 38,
      "outputs": [
        {
          "output_type": "stream",
          "text": [
            "Model: \"sequential_3\"\n",
            "_________________________________________________________________\n",
            "Layer (type)                 Output Shape              Param #   \n",
            "=================================================================\n",
            "embedding_3 (Embedding)      (None, 1179, 64)          128064    \n",
            "_________________________________________________________________\n",
            "conv1d_5 (Conv1D)            (None, 1177, 512)         98816     \n",
            "_________________________________________________________________\n",
            "global_max_pooling1d_2 (Glob (None, 512)               0         \n",
            "_________________________________________________________________\n",
            "dense_6 (Dense)              (None, 128)               65664     \n",
            "_________________________________________________________________\n",
            "dropout_3 (Dropout)          (None, 128)               0         \n",
            "_________________________________________________________________\n",
            "dense_7 (Dense)              (None, 2)                 258       \n",
            "=================================================================\n",
            "Total params: 292,802\n",
            "Trainable params: 292,802\n",
            "Non-trainable params: 0\n",
            "_________________________________________________________________\n",
            "Epoch 1/10\n",
            "782/782 - 466s - loss: 0.4628 - accuracy: 0.7744\n",
            "Epoch 2/10\n",
            "782/782 - 467s - loss: 0.3285 - accuracy: 0.8638\n",
            "Epoch 3/10\n",
            "782/782 - 465s - loss: 0.2604 - accuracy: 0.8983\n",
            "Epoch 4/10\n",
            "782/782 - 465s - loss: 0.1892 - accuracy: 0.9298\n",
            "Epoch 5/10\n",
            "782/782 - 465s - loss: 0.1138 - accuracy: 0.9607\n",
            "Epoch 6/10\n",
            "782/782 - 466s - loss: 0.0663 - accuracy: 0.9789\n",
            "Epoch 7/10\n",
            "782/782 - 468s - loss: 0.0380 - accuracy: 0.9870\n",
            "Epoch 8/10\n",
            "782/782 - 470s - loss: 0.0385 - accuracy: 0.9859\n",
            "Epoch 9/10\n",
            "782/782 - 468s - loss: 0.0303 - accuracy: 0.9898\n",
            "Epoch 10/10\n",
            "782/782 - 470s - loss: 0.0256 - accuracy: 0.9910\n"
          ],
          "name": "stdout"
        },
        {
          "output_type": "execute_result",
          "data": {
            "text/plain": [
              "[2.7559762001037598, 0.5646799802780151]"
            ]
          },
          "metadata": {
            "tags": []
          },
          "execution_count": 38
        }
      ]
    },
    {
      "cell_type": "code",
      "metadata": {
        "colab": {
          "base_uri": "https://localhost:8080/",
          "height": 142
        },
        "id": "SI5B0JiyvptJ",
        "outputId": "e23ae04d-c0cf-42b2-c821-9f94295b2e55"
      },
      "source": [
        "cnn_accuracy['Accuracy'] = [sub_acc[1], polarity_acc[1], imdb_acc[1]]\n",
        "pd.DataFrame(cnn_accuracy)"
      ],
      "execution_count": 41,
      "outputs": [
        {
          "output_type": "execute_result",
          "data": {
            "text/html": [
              "<div>\n",
              "<style scoped>\n",
              "    .dataframe tbody tr th:only-of-type {\n",
              "        vertical-align: middle;\n",
              "    }\n",
              "\n",
              "    .dataframe tbody tr th {\n",
              "        vertical-align: top;\n",
              "    }\n",
              "\n",
              "    .dataframe thead th {\n",
              "        text-align: right;\n",
              "    }\n",
              "</style>\n",
              "<table border=\"1\" class=\"dataframe\">\n",
              "  <thead>\n",
              "    <tr style=\"text-align: right;\">\n",
              "      <th></th>\n",
              "      <th>Dataset</th>\n",
              "      <th>Accuracy</th>\n",
              "    </tr>\n",
              "  </thead>\n",
              "  <tbody>\n",
              "    <tr>\n",
              "      <th>0</th>\n",
              "      <td>subjectivity</td>\n",
              "      <td>0.540333</td>\n",
              "    </tr>\n",
              "    <tr>\n",
              "      <th>1</th>\n",
              "      <td>polarity</td>\n",
              "      <td>0.493333</td>\n",
              "    </tr>\n",
              "    <tr>\n",
              "      <th>2</th>\n",
              "      <td>Imdb</td>\n",
              "      <td>0.564680</td>\n",
              "    </tr>\n",
              "  </tbody>\n",
              "</table>\n",
              "</div>"
            ],
            "text/plain": [
              "        Dataset  Accuracy\n",
              "0  subjectivity  0.540333\n",
              "1      polarity  0.493333\n",
              "2          Imdb  0.564680"
            ]
          },
          "metadata": {
            "tags": []
          },
          "execution_count": 41
        }
      ]
    },
    {
      "cell_type": "markdown",
      "metadata": {
        "id": "QRMEbF80ZeDx"
      },
      "source": [
        "# Review Summarization"
      ]
    },
    {
      "cell_type": "code",
      "metadata": {
        "id": "6siYzWNuHk7d"
      },
      "source": [
        "def build_similarity_matrix(sentences,sentence_vectors):\n",
        "  sim_mat = np.zeros([len(sentences), len(sentences)])\n",
        "  for i in range(len(sentences)):\n",
        "    for j in range(len(sentences)):\n",
        "      if i != j:\n",
        "        sim_mat[i][j] = cosine_similarity(sentence_vectors[i].reshape(1,100), sentence_vectors[j].reshape(1,100))[0,0]\n",
        "  return sim_mat"
      ],
      "execution_count": null,
      "outputs": []
    },
    {
      "cell_type": "code",
      "metadata": {
        "id": "097nS_HiH2y_"
      },
      "source": [
        "def preprocess(text):\n",
        "    stop_words = stopwords.words('english')\n",
        "    text = text.lower()\n",
        "    doc = word_tokenize(text)\n",
        "    doc = clean_review(doc)\n",
        "    return doc"
      ],
      "execution_count": null,
      "outputs": []
    },
    {
      "cell_type": "code",
      "metadata": {
        "id": "NRX_pttVH5sT"
      },
      "source": [
        "def document_vector(model, doc):\n",
        "    # remove out-of-vocabulary words\n",
        "    doc = [word for word in doc if word in model.wv.vocab]\n",
        "    if len(doc) > 0:\n",
        "        return np.mean(model[doc], axis=0)\n",
        "    else:\n",
        "      return np.array([])"
      ],
      "execution_count": null,
      "outputs": []
    },
    {
      "cell_type": "code",
      "metadata": {
        "id": "vjNpmCCBH7Y0"
      },
      "source": [
        "def make_sentence_vector(text):\n",
        "  \n",
        "  sentences = sent_tokenize(text)\n",
        "  # print(len(sentences))\n",
        "  filter = []\n",
        "  x = []\n",
        "  y = []\n",
        "  \n",
        "  for sent in sentences:\n",
        "    x.append(preprocess(sent))\n",
        "\n",
        "  return word_2_vec(x)\n",
        "  model = Word2Vec(x,min_count=1)\n",
        "\n",
        "  for i,doc in enumerate(x):\n",
        "    p = document_vector(model, doc)\n",
        "    if len(p) > 0:\n",
        "      y.append(p)\n",
        "      filter.append(sentences[i])\n",
        "\n",
        "  return np.array(y), np.array(filter)"
      ],
      "execution_count": null,
      "outputs": []
    },
    {
      "cell_type": "code",
      "metadata": {
        "id": "t0KnxeJcH8_x"
      },
      "source": [
        "'''\n",
        "Builds graph using similarity matrix.\n",
        "Nodes represents a sentence.\n",
        "If the similarity between two sentence lies between (0,0.5] then there will be\n",
        "a edge between those nodes with weight = cosine_similarity between those\n",
        "sentences.\n",
        "'''\n",
        "def build_graph(similarity_matrix):\n",
        "  x, y = similarity_matrix.shape\n",
        "  adj_matrix = np.zeros((x,y))\n",
        "  for i in range(x):\n",
        "    for j in range(y):\n",
        "      if i != j:\n",
        "        sim_value = similarity_matrix[i][j]\n",
        "        if sim_value > 0  and sim_value <= 0.5:\n",
        "          adj_matrix[i][j] = sim_value\n",
        "  return adj_matrix"
      ],
      "execution_count": null,
      "outputs": []
    },
    {
      "cell_type": "code",
      "metadata": {
        "id": "REFWFAxbH-iL"
      },
      "source": [
        "def weight_rank_algo(adj_matrix,d,iterations=5):\n",
        "  x, y = adj_matrix.shape\n",
        "  wgra = np.ones(x)\n",
        "  for iter in range(iterations):\n",
        "    node_converged = 0\n",
        "    for i in range(x):\n",
        "        sum = 0\n",
        "        for j in range(y):\n",
        "          sum = sum + wgra[j]*adj_matrix[j][i]/np.sum(adj_matrix[j])\n",
        "        if((((1-d) + d*sum) - wgra[i]) <=  0.0001):\n",
        "          # print('converge:',i)\n",
        "          node_converged = node_converged + 1\n",
        "        wgra[i] = (1-d) + d*sum\n",
        "    if node_converged == x:\n",
        "      print('All nodes converged at iteration :',iter)\n",
        "      break\n",
        "    # print(wgra)\n",
        "  return wgra\n",
        "\n",
        "# (0.0001)"
      ],
      "execution_count": null,
      "outputs": []
    },
    {
      "cell_type": "code",
      "metadata": {
        "id": "s2uU1CMw7mEX"
      },
      "source": [
        "def write_summary_tofile(summary,filename):\n",
        "  dir_path = '/content/drive/MyDrive/Colab Notebooks/summaries/'\n",
        "  summary_file = dir_path + filename\n",
        "\n",
        "  with open(summary_file,'w') as out:\n",
        "    out.write(summary)\n",
        "\n",
        "  print('written:',summary_file)"
      ],
      "execution_count": null,
      "outputs": []
    },
    {
      "cell_type": "code",
      "metadata": {
        "id": "D1OGCRP-IAeZ"
      },
      "source": [
        "'''\n",
        "Creates summary by getting highest ranked sentences.\n",
        "'''\n",
        "def generate_summary(wgra, sentences,top):\n",
        "  rang = min(len(sentences)-1,top)\n",
        "  highest_rank = np.argpartition(-wgra,range(rang+1))\n",
        "  summary = \"\"\n",
        "  for i in range(0,rang):\n",
        "    summary = summary + sentences[highest_rank[i]] + \"\\n\"\n",
        "  return summary"
      ],
      "execution_count": null,
      "outputs": []
    },
    {
      "cell_type": "code",
      "metadata": {
        "id": "TRxByg-HVNG9"
      },
      "source": [
        "'''\n",
        "Creates summary using lexrank.\n",
        "'''\n",
        "def get_lexrank_summary(text, top):\n",
        "  parser = PlaintextParser.from_string(text,Tokenizer(\"english\"))\n",
        "  summarizer_lex = LexRankSummarizer()\n",
        "  summary= summarizer_lex(parser.document, top)\n",
        "  lex_summary=\"\"\n",
        "  for sentence in summary:\n",
        "      lex_summary+=str(sentence)  \n",
        "  return lex_summary"
      ],
      "execution_count": null,
      "outputs": []
    },
    {
      "cell_type": "code",
      "metadata": {
        "id": "helFABC5wwxd"
      },
      "source": [
        "'''\n",
        "Creates summary using textrank\n",
        "'''\n",
        "def get_textrank_summary(text, top):\n",
        "\n",
        "  parser = PlaintextParser.from_string(text,Tokenizer(\"english\"))\n",
        "  summarizer = TextRankSummarizer()\n",
        "  summary =summarizer(parser.document,top)\n",
        "  text_summary=\"\"\n",
        "  for sentence in summary:\n",
        "      text_summary+=str(sentence)\n",
        "  return text_summary"
      ],
      "execution_count": null,
      "outputs": []
    },
    {
      "cell_type": "code",
      "metadata": {
        "id": "eq_JE938IDMa"
      },
      "source": [
        "'''\n",
        "Reads every input file, and calculates similarity matrix, adjacency matrix, and ranks of node in graph.\n",
        "calculates rogue score between reference summary and generated summary.\n",
        "\n",
        "Here reference summary is generated using lexrank/Textrank\n",
        "'''\n",
        "def summarize(dir_path, compare_with,top=20,iter=10, write=False):\n",
        "  category = ['pos','neg']\n",
        "  rogue1 = [0,0,0] # precision, recall, fmeasure\n",
        "  rogue2 = [0,0,0]\n",
        "  for cat in category:\n",
        "    print(cat)\n",
        "    dir_curr = dir_path + '/' + cat\n",
        "    file_list = [f for f in os.listdir(dir_curr) ]\n",
        "    for file_name in file_list:\n",
        "      file = open(dir_curr + '/' + file_name, 'r')\n",
        "      text = file.read()\n",
        "      sentences_vector, sentences = make_sentence_vector(text)\n",
        "      similarity_matrix = build_similarity_matrix(sentences,sentences_vector)\n",
        "      # print('similarity_matrix:',similarity_matrix.shape)\n",
        "      adj_matrix = build_graph(similarity_matrix)\n",
        "      # print('adj_matrix:',adj_matrix.shape)\n",
        "      wgra = weight_rank_algo(adj_matrix,0.85,iterations=iter)\n",
        "      # print('wgra:',wgra.shape)\n",
        "      summary = generate_summary(wgra,sentences,top)\n",
        "\n",
        "      ref_summary = ''\n",
        "\n",
        "      if compare_with == 'lexrank': \n",
        "        ref_summary = get_lexrank_summary(text,top)\n",
        "      elif compare_with == 'textrank':\n",
        "        ref_summary = get_textrank_summary(text,top)\n",
        "\n",
        "      scorer = rouge_scorer.RougeScorer(['rouge1', 'rouge2'])\n",
        "      scores = scorer.score(ref_summary,summary)\n",
        "      # print(scores)\n",
        "      rogue1[0] = rogue1[0] + scores['rouge1'].precision\n",
        "      rogue1[1] = rogue1[1] + scores['rouge1'].recall\n",
        "      rogue1[2] = rogue1[2] + scores['rouge1'].fmeasure\n",
        "      rogue2[0] = rogue2[0] + scores['rouge2'].precision\n",
        "      rogue2[1] = rogue2[1] + scores['rouge2'].recall\n",
        "      rogue2[2] = rogue2[2] + scores['rouge2'].fmeasure\n",
        "      file.close()\n",
        "\n",
        "      if write:\n",
        "        write_summary_tofile(summary,file_name)\n",
        "  return rogue1, rogue2"
      ],
      "execution_count": null,
      "outputs": []
    },
    {
      "cell_type": "markdown",
      "metadata": {
        "id": "DXityXYUzwtK"
      },
      "source": [
        "**Polarity Dataset**"
      ]
    },
    {
      "cell_type": "code",
      "metadata": {
        "id": "1rnOgy0Zux9q"
      },
      "source": [
        "'''\n",
        "Rouge-1 and Rouge-2 scores dictionary for creating dataframe for polarity dataset.\n",
        "'''\n",
        "\n",
        "Rouge_1_Score_polarity = {\n",
        "    \"Rouge_1_Score\" : [\"Precision\",\"Recall\", \"F-score\"],\n",
        "    \"Lexrank\" : None,\n",
        "    \"Textrank\" : None\n",
        "}\n",
        "Rouge_2_Score_polarity = {\n",
        "    \"Rouge_2_Score\" : [\"Precision\",\"Recall\", \"F-score\"],\n",
        "    \"Lexrank\" : None,\n",
        "    \"Textrank\" : None\n",
        "}"
      ],
      "execution_count": null,
      "outputs": []
    },
    {
      "cell_type": "code",
      "metadata": {
        "id": "_l0dTHLZIFK6"
      },
      "source": [
        "# compare polarity dataset with lexrank\n",
        "rouge1_lex, rouge2_lex = summarize('/content/drive/MyDrive/Colab Notebooks/txt_sentoken','lexrank',15, write=True)"
      ],
      "execution_count": null,
      "outputs": []
    },
    {
      "cell_type": "code",
      "metadata": {
        "id": "LJxYCKEJycWB"
      },
      "source": [
        "# compare polarity dataset with textrank\n",
        "rouge1_text, rouge2_text = summarize('/content/drive/MyDrive/Colab Notebooks/txt_sentoken','textrank',15)"
      ],
      "execution_count": null,
      "outputs": []
    },
    {
      "cell_type": "code",
      "metadata": {
        "id": "7NuXXatjwmjb"
      },
      "source": [
        "Rouge_1_Score_polarity[\"Lexrank\"]  = np.array(rouge1_lex)/2000\n",
        "Rouge_2_Score_polarity[\"Lexrank\"]  = np.array(rouge2_lex)/2000\n",
        "Rouge_1_Score_polarity[\"Textrank\"] = np.array(rouge1_text)/2000\n",
        "Rouge_2_Score_polarity[\"Textrank\"] = np.array(rouge2_text)/2000"
      ],
      "execution_count": null,
      "outputs": []
    },
    {
      "cell_type": "code",
      "metadata": {
        "id": "eo04gk8NvReq",
        "colab": {
          "base_uri": "https://localhost:8080/",
          "height": 142
        },
        "outputId": "a61dca5e-8532-4163-932a-29997a405c6f"
      },
      "source": [
        "pd.DataFrame(Rouge_1_Score_polarity)"
      ],
      "execution_count": null,
      "outputs": [
        {
          "output_type": "execute_result",
          "data": {
            "text/html": [
              "<div>\n",
              "<style scoped>\n",
              "    .dataframe tbody tr th:only-of-type {\n",
              "        vertical-align: middle;\n",
              "    }\n",
              "\n",
              "    .dataframe tbody tr th {\n",
              "        vertical-align: top;\n",
              "    }\n",
              "\n",
              "    .dataframe thead th {\n",
              "        text-align: right;\n",
              "    }\n",
              "</style>\n",
              "<table border=\"1\" class=\"dataframe\">\n",
              "  <thead>\n",
              "    <tr style=\"text-align: right;\">\n",
              "      <th></th>\n",
              "      <th>Rouge_1_Score</th>\n",
              "      <th>Lexrank</th>\n",
              "      <th>Textrank</th>\n",
              "    </tr>\n",
              "  </thead>\n",
              "  <tbody>\n",
              "    <tr>\n",
              "      <th>0</th>\n",
              "      <td>Precision</td>\n",
              "      <td>0.724229</td>\n",
              "      <td>0.816529</td>\n",
              "    </tr>\n",
              "    <tr>\n",
              "      <th>1</th>\n",
              "      <td>Recall</td>\n",
              "      <td>0.734731</td>\n",
              "      <td>0.680255</td>\n",
              "    </tr>\n",
              "    <tr>\n",
              "      <th>2</th>\n",
              "      <td>F-score</td>\n",
              "      <td>0.726589</td>\n",
              "      <td>0.739065</td>\n",
              "    </tr>\n",
              "  </tbody>\n",
              "</table>\n",
              "</div>"
            ],
            "text/plain": [
              "  Rouge_1_Score   Lexrank  Textrank\n",
              "0     Precision  0.724229  0.816529\n",
              "1        Recall  0.734731  0.680255\n",
              "2       F-score  0.726589  0.739065"
            ]
          },
          "metadata": {
            "tags": []
          },
          "execution_count": 46
        }
      ]
    },
    {
      "cell_type": "code",
      "metadata": {
        "id": "4OkOMPY4wPk8",
        "colab": {
          "base_uri": "https://localhost:8080/",
          "height": 142
        },
        "outputId": "4782ee60-3d5e-482e-a87b-fc224cb4bd2d"
      },
      "source": [
        "pd.DataFrame(Rouge_2_Score_polarity)"
      ],
      "execution_count": null,
      "outputs": [
        {
          "output_type": "execute_result",
          "data": {
            "text/html": [
              "<div>\n",
              "<style scoped>\n",
              "    .dataframe tbody tr th:only-of-type {\n",
              "        vertical-align: middle;\n",
              "    }\n",
              "\n",
              "    .dataframe tbody tr th {\n",
              "        vertical-align: top;\n",
              "    }\n",
              "\n",
              "    .dataframe thead th {\n",
              "        text-align: right;\n",
              "    }\n",
              "</style>\n",
              "<table border=\"1\" class=\"dataframe\">\n",
              "  <thead>\n",
              "    <tr style=\"text-align: right;\">\n",
              "      <th></th>\n",
              "      <th>Rouge_2_Score</th>\n",
              "      <th>Lexrank</th>\n",
              "      <th>Textrank</th>\n",
              "    </tr>\n",
              "  </thead>\n",
              "  <tbody>\n",
              "    <tr>\n",
              "      <th>0</th>\n",
              "      <td>Precision</td>\n",
              "      <td>0.600731</td>\n",
              "      <td>0.706834</td>\n",
              "    </tr>\n",
              "    <tr>\n",
              "      <th>1</th>\n",
              "      <td>Recall</td>\n",
              "      <td>0.609685</td>\n",
              "      <td>0.594077</td>\n",
              "    </tr>\n",
              "    <tr>\n",
              "      <th>2</th>\n",
              "      <td>F-score</td>\n",
              "      <td>0.602877</td>\n",
              "      <td>0.643024</td>\n",
              "    </tr>\n",
              "  </tbody>\n",
              "</table>\n",
              "</div>"
            ],
            "text/plain": [
              "  Rouge_2_Score   Lexrank  Textrank\n",
              "0     Precision  0.600731  0.706834\n",
              "1        Recall  0.609685  0.594077\n",
              "2       F-score  0.602877  0.643024"
            ]
          },
          "metadata": {
            "tags": []
          },
          "execution_count": 47
        }
      ]
    },
    {
      "cell_type": "markdown",
      "metadata": {
        "id": "nk1y6x0ezq7T"
      },
      "source": [
        "**Imdb Dataset**"
      ]
    },
    {
      "cell_type": "code",
      "metadata": {
        "id": "_l4G-LKB2WA1"
      },
      "source": [
        "# compare imdb dataset with lexrank\n",
        "rouge1_lex_imdb, rouge2_lex_imdb = summarize('/content/drive/MyDrive/Colab Notebooks/aclImdb/test','lexrank',15)"
      ],
      "execution_count": null,
      "outputs": []
    },
    {
      "cell_type": "code",
      "metadata": {
        "id": "cnBirwj50gr8"
      },
      "source": [
        "# compare imdb dataset with textrank\n",
        "rouge1_text_imdb, rouge2_text_imdb = summarize('/content/drive/MyDrive/Colab Notebooks/aclImdb/test','textrank',15)"
      ],
      "execution_count": null,
      "outputs": []
    },
    {
      "cell_type": "code",
      "metadata": {
        "id": "Jl1WS4AGEH1c"
      },
      "source": [
        "'''\n",
        "Rouge-1 and Rouge-2 scores dictionary for creating dataframe for IMDB dataset.\n",
        "'''\n",
        "\n",
        "Rouge_1_Score_imdb = {\n",
        "    \"Rouge_1_Score\" : [\"Precision\",\"Recall\", \"F-score\"],\n",
        "    \"Lexrank\" : None,\n",
        "    \"Textrank\" : None\n",
        "}\n",
        "Rouge_2_Score_imdb = {\n",
        "    \"Rouge_2_Score\" : [\"Precision\",\"Recall\", \"F-score\"],\n",
        "    \"Lexrank\" : None,\n",
        "    \"Textrank\" : None\n",
        "}"
      ],
      "execution_count": null,
      "outputs": []
    },
    {
      "cell_type": "code",
      "metadata": {
        "id": "skoDLxucENmY"
      },
      "source": [
        "Rouge_1_Score_imdb[\"Lexrank\"]  = np.array(rouge1_lex_imdb)/25000\n",
        "Rouge_2_Score_imdb[\"Lexrank\"]  = np.array(rouge2_lex_imdb)/25000\n",
        "Rouge_1_Score_imdb[\"Textrank\"] = np.array(rouge1_text_imdb)/25000\n",
        "Rouge_2_Score_imdb[\"Textrank\"] = np.array(rouge2_text_imdb)/25000"
      ],
      "execution_count": null,
      "outputs": []
    },
    {
      "cell_type": "code",
      "metadata": {
        "id": "LvDVQpUqEfv7",
        "colab": {
          "base_uri": "https://localhost:8080/",
          "height": 142
        },
        "outputId": "87e844d8-f5e6-4c01-8553-bed63ff0d49b"
      },
      "source": [
        "pd.DataFrame(Rouge_2_Score_imdb)"
      ],
      "execution_count": null,
      "outputs": [
        {
          "output_type": "execute_result",
          "data": {
            "text/html": [
              "<div>\n",
              "<style scoped>\n",
              "    .dataframe tbody tr th:only-of-type {\n",
              "        vertical-align: middle;\n",
              "    }\n",
              "\n",
              "    .dataframe tbody tr th {\n",
              "        vertical-align: top;\n",
              "    }\n",
              "\n",
              "    .dataframe thead th {\n",
              "        text-align: right;\n",
              "    }\n",
              "</style>\n",
              "<table border=\"1\" class=\"dataframe\">\n",
              "  <thead>\n",
              "    <tr style=\"text-align: right;\">\n",
              "      <th></th>\n",
              "      <th>Rouge_2_Score</th>\n",
              "      <th>Lexrank</th>\n",
              "      <th>Textrank</th>\n",
              "    </tr>\n",
              "  </thead>\n",
              "  <tbody>\n",
              "    <tr>\n",
              "      <th>0</th>\n",
              "      <td>Precision</td>\n",
              "      <td>0.916467</td>\n",
              "      <td>0.934587</td>\n",
              "    </tr>\n",
              "    <tr>\n",
              "      <th>1</th>\n",
              "      <td>Recall</td>\n",
              "      <td>0.816423</td>\n",
              "      <td>0.816810</td>\n",
              "    </tr>\n",
              "    <tr>\n",
              "      <th>2</th>\n",
              "      <td>F-score</td>\n",
              "      <td>0.856988</td>\n",
              "      <td>0.866024</td>\n",
              "    </tr>\n",
              "  </tbody>\n",
              "</table>\n",
              "</div>"
            ],
            "text/plain": [
              "  Rouge_2_Score   Lexrank  Textrank\n",
              "0     Precision  0.916467  0.934587\n",
              "1        Recall  0.816423  0.816810\n",
              "2       F-score  0.856988  0.866024"
            ]
          },
          "metadata": {
            "tags": []
          },
          "execution_count": 53
        }
      ]
    },
    {
      "cell_type": "code",
      "metadata": {
        "id": "sBeNwYzaEeGO",
        "colab": {
          "base_uri": "https://localhost:8080/",
          "height": 142
        },
        "outputId": "73d213b4-0b54-4ebd-f914-a0d1d98372d7"
      },
      "source": [
        "pd.DataFrame(Rouge_1_Score_imdb)"
      ],
      "execution_count": null,
      "outputs": [
        {
          "output_type": "execute_result",
          "data": {
            "text/html": [
              "<div>\n",
              "<style scoped>\n",
              "    .dataframe tbody tr th:only-of-type {\n",
              "        vertical-align: middle;\n",
              "    }\n",
              "\n",
              "    .dataframe tbody tr th {\n",
              "        vertical-align: top;\n",
              "    }\n",
              "\n",
              "    .dataframe thead th {\n",
              "        text-align: right;\n",
              "    }\n",
              "</style>\n",
              "<table border=\"1\" class=\"dataframe\">\n",
              "  <thead>\n",
              "    <tr style=\"text-align: right;\">\n",
              "      <th></th>\n",
              "      <th>Rouge_1_Score</th>\n",
              "      <th>Lexrank</th>\n",
              "      <th>Textrank</th>\n",
              "    </tr>\n",
              "  </thead>\n",
              "  <tbody>\n",
              "    <tr>\n",
              "      <th>0</th>\n",
              "      <td>Precision</td>\n",
              "      <td>0.954141</td>\n",
              "      <td>0.969713</td>\n",
              "    </tr>\n",
              "    <tr>\n",
              "      <th>1</th>\n",
              "      <td>Recall</td>\n",
              "      <td>0.852773</td>\n",
              "      <td>0.848892</td>\n",
              "    </tr>\n",
              "    <tr>\n",
              "      <th>2</th>\n",
              "      <td>F-score</td>\n",
              "      <td>0.894025</td>\n",
              "      <td>0.899629</td>\n",
              "    </tr>\n",
              "  </tbody>\n",
              "</table>\n",
              "</div>"
            ],
            "text/plain": [
              "  Rouge_1_Score   Lexrank  Textrank\n",
              "0     Precision  0.954141  0.969713\n",
              "1        Recall  0.852773  0.848892\n",
              "2       F-score  0.894025  0.899629"
            ]
          },
          "metadata": {
            "tags": []
          },
          "execution_count": 52
        }
      ]
    }
  ]
}